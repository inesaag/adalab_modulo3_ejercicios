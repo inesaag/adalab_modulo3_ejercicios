{
 "cells": [
  {
   "cell_type": "markdown",
   "metadata": {
    "toc": true
   },
   "source": [
    "<h1>Tabla de Contenidos<span class=\"tocSkip\"></span></h1>\n",
    "<div class=\"toc\"><ul class=\"toc-item\"><li><span><a href=\"#Introduccion-a-Pandas\" data-toc-modified-id=\"Introduccion-a-Pandas-1\"><span class=\"toc-item-num\">1&nbsp;&nbsp;</span>Introduccion a Pandas</a></span></li><li><span><a href=\"#Series-de-Pandas\" data-toc-modified-id=\"Series-de-Pandas-2\"><span class=\"toc-item-num\">2&nbsp;&nbsp;</span>Series de Pandas</a></span><ul class=\"toc-item\"><li><span><a href=\"#¿Qué-es-una-Serie?\" data-toc-modified-id=\"¿Qué-es-una-Serie?-2.1\"><span class=\"toc-item-num\">2.1&nbsp;&nbsp;</span>¿Qué es una Serie?</a></span></li><li><span><a href=\"#Creación-de-Series\" data-toc-modified-id=\"Creación-de-Series-2.2\"><span class=\"toc-item-num\">2.2&nbsp;&nbsp;</span>Creación de Series</a></span></li><li><span><a href=\"#Propiedades-de-las-Series\" data-toc-modified-id=\"Propiedades-de-las-Series-2.3\"><span class=\"toc-item-num\">2.3&nbsp;&nbsp;</span>Propiedades de las Series</a></span></li><li><span><a href=\"#Indexación-de-las-Series\" data-toc-modified-id=\"Indexación-de-las-Series-2.4\"><span class=\"toc-item-num\">2.4&nbsp;&nbsp;</span>Indexación de las Series</a></span></li></ul></li><li><span><a href=\"#DataFrames-en-Pandas\" data-toc-modified-id=\"DataFrames-en-Pandas-3\"><span class=\"toc-item-num\">3&nbsp;&nbsp;</span>DataFrames en Pandas</a></span><ul class=\"toc-item\"><li><span><a href=\"#¿Qué-es-un-DataFrame?\" data-toc-modified-id=\"¿Qué-es-un-DataFrame?-3.1\"><span class=\"toc-item-num\">3.1&nbsp;&nbsp;</span>¿Qué es un DataFrame?</a></span></li><li><span><a href=\"#Creación-de-DataFrames\" data-toc-modified-id=\"Creación-de-DataFrames-3.2\"><span class=\"toc-item-num\">3.2&nbsp;&nbsp;</span>Creación de DataFrames</a></span></li><li><span><a href=\"#Apertura-de-ficheros-en-Pandas\" data-toc-modified-id=\"Apertura-de-ficheros-en-Pandas-3.3\"><span class=\"toc-item-num\">3.3&nbsp;&nbsp;</span>Apertura de ficheros en Pandas</a></span></li><li><span><a href=\"#pd.read_csv()\" data-toc-modified-id=\"pd.read_csv()-3.4\"><span class=\"toc-item-num\">3.4&nbsp;&nbsp;</span><code>pd.read_csv()</code></a></span></li><li><span><a href=\"#pd.read_excel()\" data-toc-modified-id=\"pd.read_excel()-3.5\"><span class=\"toc-item-num\">3.5&nbsp;&nbsp;</span><code>pd.read_excel()</code></a></span></li><li><span><a href=\"#pd.read_json()\" data-toc-modified-id=\"pd.read_json()-3.6\"><span class=\"toc-item-num\">3.6&nbsp;&nbsp;</span><code>pd.read_json()</code></a></span></li><li><span><a href=\"#pd.read_pickle\" data-toc-modified-id=\"pd.read_pickle-3.7\"><span class=\"toc-item-num\">3.7&nbsp;&nbsp;</span><code>pd.read_pickle</code></a></span></li><li><span><a href=\"#loc-e-iloc-(Indexación-en-Pandas)\" data-toc-modified-id=\"loc-e-iloc-(Indexación-en-Pandas)-3.8\"><span class=\"toc-item-num\">3.8&nbsp;&nbsp;</span>loc e iloc (Indexación en Pandas)</a></span><ul class=\"toc-item\"><li><span><a href=\"#Selección-a-través-de-un-único-elemento\" data-toc-modified-id=\"Selección-a-través-de-un-único-elemento-3.8.1\"><span class=\"toc-item-num\">3.8.1&nbsp;&nbsp;</span>Selección a través de un único elemento</a></span></li><li><span><a href=\"#Selección-a-través-de-una-lista-de-valores\" data-toc-modified-id=\"Selección-a-través-de-una-lista-de-valores-3.8.2\"><span class=\"toc-item-num\">3.8.2&nbsp;&nbsp;</span>Selección a través de una lista de valores</a></span></li><li><span><a href=\"#Selección-de-un-rango-de-datos-a-través-de-un-corte\" data-toc-modified-id=\"Selección-de-un-rango-de-datos-a-través-de-un-corte-3.8.3\"><span class=\"toc-item-num\">3.8.3&nbsp;&nbsp;</span>Selección de un rango de datos a través de un corte</a></span></li><li><span><a href=\"#Seleccionar-basado-en-una-condición\" data-toc-modified-id=\"Seleccionar-basado-en-una-condición-3.8.4\"><span class=\"toc-item-num\">3.8.4&nbsp;&nbsp;</span>Seleccionar basado en una condición</a></span></li></ul></li><li><span><a href=\"#Creación-nuevas-columnas\" data-toc-modified-id=\"Creación-nuevas-columnas-3.9\"><span class=\"toc-item-num\">3.9&nbsp;&nbsp;</span>Creación nuevas columnas</a></span><ul class=\"toc-item\"><li><span><a href=\"#Asignación-directa\" data-toc-modified-id=\"Asignación-directa-3.9.1\"><span class=\"toc-item-num\">3.9.1&nbsp;&nbsp;</span>Asignación directa</a></span></li><li><span><a href=\"#.assign()\" data-toc-modified-id=\".assign()-3.9.2\"><span class=\"toc-item-num\">3.9.2&nbsp;&nbsp;</span><code>.assign()</code></a></span></li><li><span><a href=\"#insert()\" data-toc-modified-id=\"insert()-3.9.3\"><span class=\"toc-item-num\">3.9.3&nbsp;&nbsp;</span><code>insert()</code></a></span></li></ul></li></ul></li><li><span><a href=\"#Ejercicios\" data-toc-modified-id=\"Ejercicios-4\"><span class=\"toc-item-num\">4&nbsp;&nbsp;</span>Ejercicios</a></span></li></ul></div>"
   ]
  },
  {
   "cell_type": "markdown",
   "metadata": {},
   "source": [
    "# Introduccion a Pandas\n",
    "\n",
    "Al inicio del módulo 2 ya hablamos de Pandas, y dijimos que era una de las librerías con las que más ibamos a usar a lo largo del curso. Como dijimos, Pandas es una biblioteca de Python especializada en el manejo y análisis de estructuras de datos. Algunas de las principales características de Pandas son:\n",
    "\n",
    "- Define nuevas estructuras de datos basadas en los *arrays* de la biblioteca NumPy, pero con funcionalidades adicionales. Esto significa que puedes aprovechar las capacidades de NumPy y agregar nuevas funcionalidades específicas para el análisis de datos.\n",
    "\n",
    "- Permite leer y escribir fácilmente archivos en formatos comunes como CSV, Excel y bases de datos SQL, lo que facilita la importación y exportación de datos desde y hacia diferentes fuentes.\n",
    "\n",
    "- Permite acceder a los datos mediante índices o nombres para filas y columnas. Esto significa que puedes acceder a los datos utilizando etiquetas en lugar de solo posiciones numéricas, lo cual es especialmente útil cuando los datos están etiquetados o indexados de manera significativa.\n",
    "\n",
    "- Ofrece métodos para reordenar, dividir y combinar conjuntos de datos. Puedes realizar operaciones como clasificación, filtrado y combinación de datos para obtener resultados específicos o realizar análisis más avanzados.\n",
    "\n",
    "- Permite trabajar con series temporales, lo que facilita el análisis y manipulación de datos que están organizados en función del tiempo, como series de tiempo financieras o datos de sensores recopilados a intervalos regulares.\n",
    "\n",
    "- Realiza todas estas operaciones de manera muy eficiente. Pandas está diseñado para manejar eficientemente grandes volúmenes de datos y proporciona herramientas optimizadas para realizar operaciones en memoria y en paralelo.\n",
    "\n",
    "En cuanto a las estructuras de datos en Pandas, existen tres principales:\n",
    "\n",
    "1. `Series`: Representa una estructura de datos unidimensional similar a un array o una columna en una tabla. Cada elemento en una Serie tiene un índice asociado que permite acceder a los datos de forma individual.\n",
    "\n",
    "2. `DataFrame`: Representa una estructura de datos bidimensional similar a una tabla de una base de datos o una hoja de cálculo de Excel. Consiste en una colección de Series organizadas en columnas. Los DataFrames son especialmente útiles para el análisis de datos tabulares y ofrecen una gran cantidad de funcionalidades para manipular y analizar los datos.\n",
    "\n",
    "3. `Panel`: Representa una estructura de datos tridimensional, aunque su uso no es tan común como las Series y los DataFrames. Puede considerarse como una colección de DataFrames."
   ]
  },
  {
   "cell_type": "code",
   "execution_count": 1,
   "metadata": {},
   "outputs": [],
   "source": [
    "# importamos la pandas para poder trabajar en la lección\n",
    "import pandas as pd"
   ]
  },
  {
   "cell_type": "markdown",
   "metadata": {},
   "source": [
    "# Series de Pandas\n",
    "\n",
    "## ¿Qué es una Serie?\n",
    "\n",
    "\n",
    "Como hemos dicho, una Serie es una estructura de datos unidimensional en Pandas. Se puede pensar en una Serie como una columna en una tabla  con etiquetas de índice. Cada elemento en una Serie tiene un índice asociado que permite acceder a los datos de forma individual.\n",
    "\n",
    "Las Series en Pandas tienen las siguientes características:\n",
    "\n",
    "1. **Datos homogéneos**: Una Serie contiene datos de **un solo tipo**, como *integer*s, *float*s, *strings*, etc. \n",
    "\n",
    "2. **Índices etiquetados**: Cada elemento en una Serie tiene una etiqueta de índice asociada. Los índices pueden ser etiquetas personalizadas o valores numéricos generados automáticamente. Estas etiquetas permiten un acceso más intuitivo a los datos en lugar de depender solo de las posiciones numéricas.\n",
    "\n",
    "3. **Funcionalidades adicionales**: Las Series en Pandas proporcionan numerosas funcionalidades para manipular y analizar datos de manera eficiente. Puedes realizar operaciones matemáticas, filtrado de datos, agregación, ordenamiento, alineación de datos, entre otras.\n",
    "\n",
    "Es importante destacar que las Series y los DataFrames son los elementos fundamentales en el ecosistema de Pandas, y muchas operaciones de análisis de datos se realizan utilizando estas estructuras de datos.\n",
    "\n",
    "\n",
    "## Creación de Series\n",
    "\n",
    "Podemos crear Series de distintas formas: \n",
    "\n",
    "- Series vacías\n",
    "\n",
    "- Series a partir de un *array*. Recordamos, las Series son unidimensionales, por lo tanto solo le podremos pasar *arrays* unidimensionales\n",
    "\n",
    "- Series a partir de listas\n",
    "\n",
    "- Series a partir de un diccionario\n"
   ]
  },
  {
   "cell_type": "markdown",
   "metadata": {},
   "source": [
    "**Serie vacía**"
   ]
  },
  {
   "cell_type": "code",
   "execution_count": 2,
   "metadata": {},
   "outputs": [
    {
     "data": {
      "text/plain": [
       "Series([], dtype: object)"
      ]
     },
     "execution_count": 2,
     "metadata": {},
     "output_type": "execute_result"
    }
   ],
   "source": [
    "# creemos algunas Series en Pandas para entenderlas mejor.\n",
    "# en este primer ejemplo crearemos una Serie vacía\n",
    "serie_vacia = pd.Series()\n",
    "serie_vacia"
   ]
  },
  {
   "cell_type": "markdown",
   "metadata": {},
   "source": [
    "**Serie a partir de listas**"
   ]
  },
  {
   "cell_type": "code",
   "execution_count": 3,
   "metadata": {},
   "outputs": [
    {
     "data": {
      "text/plain": [
       "0    23\n",
       "1    45\n",
       "2    17\n",
       "3    83\n",
       "4    67\n",
       "dtype: int64"
      ]
     },
     "execution_count": 3,
     "metadata": {},
     "output_type": "execute_result"
    }
   ],
   "source": [
    "# esta Serie esta bien, pero en realidad por lo general querremos tener Series con datos\n",
    "# creemos ahora una serie a partir de una lista\n",
    "\n",
    "# definimos la lista\n",
    "lista = [23,45,17,83, 67]\n",
    "\n",
    "# convertimos esta lista en una Serie\n",
    "serie_lista1 = pd.Series(lista)\n",
    "serie_lista1"
   ]
  },
  {
   "cell_type": "markdown",
   "metadata": {},
   "source": [
    "📌 Si nos fijamos el método `pd.Series` nos va a generar automáticamente el índice y lo crea con números consecutivos, empezando por el 0. Sin embargo, también le podemos pasar los índices que queramos usando el parámetro `index`. \n",
    "\n",
    "> index: Es un parámetro opcional de la función `pd.Series`. En este caso, se proporciona una lista de índices personalizados para la Serie. Los índices indican cómo se etiquetarán los elementos de la Serie. En este ejemplo, los índices se definen en el orden especificado: 3, 4, 5, 6, 7, 8, 9, 1, 2.\n",
    "\n",
    "Tener índices personalizados puede ser útil cuando necesitamos acceder a los elementos de la Serie utilizando etiquetas específicas en lugar de las posiciones numéricas predeterminadas. Esto facilita la manipulación y el análisis de los datos en la Serie. \n",
    "\n",
    "Es importante destacar que los índices pueden ser de diferentes tipos, incluidos *integer*s, cadenas, fechas, etc. Además, los índices no necesariamente tienen que estar en orden o ser consecutivos. Esto proporciona una gran flexibilidad en el uso de las Series en Pandas."
   ]
  },
  {
   "cell_type": "code",
   "execution_count": 4,
   "metadata": {},
   "outputs": [
    {
     "data": {
      "text/plain": [
       "3    23\n",
       "4    45\n",
       "5    17\n",
       "6    83\n",
       "7    67\n",
       "dtype: int64"
      ]
     },
     "execution_count": 4,
     "metadata": {},
     "output_type": "execute_result"
    }
   ],
   "source": [
    "# vamos a definir una nueva serie pero en este caso vamos a ponerle nuestro propio índice usando el parámetro 'index'\n",
    "serie_lista2 = pd.Series(lista, index = [3,4,5,6,7])\n",
    "serie_lista2"
   ]
  },
  {
   "cell_type": "code",
   "execution_count": 5,
   "metadata": {},
   "outputs": [
    {
     "data": {
      "text/plain": [
       "Lunes        23\n",
       "Martes       45\n",
       "Miercoles    17\n",
       "Jueves       83\n",
       "Viernes      67\n",
       "dtype: int64"
      ]
     },
     "execution_count": 5,
     "metadata": {},
     "output_type": "execute_result"
    }
   ],
   "source": [
    "# como hemos mencionado los índices pueden ser de distintos tipos, en este caso crearemos una nueva Serie donde sus índices sean strings\n",
    "serie_lista3 = pd.Series(lista, index = [\"Lunes\",\"Martes\",\"Miercoles\",\"Jueves\",\"Viernes\"])\n",
    "serie_lista3"
   ]
  },
  {
   "cell_type": "markdown",
   "metadata": {},
   "source": [
    "**Series a partir de diccionarios**"
   ]
  },
  {
   "cell_type": "code",
   "execution_count": 6,
   "metadata": {},
   "outputs": [
    {
     "data": {
      "text/plain": [
       "lorena    10\n",
       "marta     20\n",
       "pilar     30\n",
       "laura     50\n",
       "ana       86\n",
       "maria     28\n",
       "dtype: int64"
      ]
     },
     "execution_count": 6,
     "metadata": {},
     "output_type": "execute_result"
    }
   ],
   "source": [
    "# definir un diccionario \n",
    "dicc = {'lorena' : 10, \n",
    "        'marta' : 20, \n",
    "        'pilar' : 30, \n",
    "        'laura': 50, \n",
    "       'ana': 86, \n",
    "        'maria': 28} \n",
    "\n",
    "# crear una serie nueva a partir del diccionario definido previamente\n",
    "serie_diccionario = pd.Series(dicc)\n",
    "serie_diccionario"
   ]
  },
  {
   "cell_type": "markdown",
   "metadata": {},
   "source": [
    "## Propiedades de las Series\n",
    "\n",
    "Las propiedades son atributos específicos que nos proporcionan información sobre las características de una Serie en particular. ALas propiedades más importantes de las Series en Pandas:\n",
    "\n",
    "1. **values**: Esta propiedad devuelve los valores de la Serie como un array NumPy. Puedes acceder a ellos utilizando la sintaxis `serie.values`.\n",
    "\n",
    "2. **index**: Esta propiedad devuelve los índices de la Serie. Los índices pueden ser de cualquier tipo, incluyendo *integer*s, cadenas u otros objetos. Puedes acceder a ellos utilizando la sintaxis `serie.index`.\n",
    "\n",
    "3. **dtype**: Esta propiedad devuelve el tipo de datos de los elementos en la Serie. Puedes acceder a él utilizando la sintaxis `serie.dtype`. Los tipos de datos comunes incluyen `int64`, `float64`, `object`, `datetime64`, entre otros.\n",
    "\n",
    "4. **size**: Esta propiedad devuelve el número total de elementos en la Serie. Puedes acceder a él utilizando la sintaxis `serie.size`.\n",
    "\n",
    "5. **shape**: Esta propiedad devuelve una tupla que representa la forma (dimensiones) de la Serie. En el caso de una Serie unidimensional, la forma será `(n,)`, donde `n` es el número de elementos en la Serie. Puedes acceder a él utilizando la sintaxis `serie.shape`.\n",
    "\n",
    "Estas propiedades son útiles para obtener información sobre una Serie en particular, como el tipo de datos, el número de elementos y los índices asociados. Además, las propiedades pueden ser utilizadas en conjunto con los métodos y funciones de Pandas para realizar operaciones y análisis más avanzados en los datos de la Serie.\n",
    "\n",
    "Es importante tener en cuenta que las Series son inmutables, lo que significa que no puedes cambiar sus elementos directamente. Sin embargo, puedes realizar operaciones y manipulaciones en las Series para obtener nuevos resultados o modificar la estructura de los datos en función de tus necesidades."
   ]
  },
  {
   "cell_type": "code",
   "execution_count": 7,
   "metadata": {},
   "outputs": [
    {
     "data": {
      "text/plain": [
       "'La serie con la que vamos a trabajar es:'"
      ]
     },
     "metadata": {},
     "output_type": "display_data"
    },
    {
     "data": {
      "text/plain": [
       "lorena    10\n",
       "marta     20\n",
       "pilar     30\n",
       "laura     50\n",
       "ana       86\n",
       "maria     28\n",
       "dtype: int64"
      ]
     },
     "metadata": {},
     "output_type": "display_data"
    },
    {
     "name": "stdout",
     "output_type": "stream",
     "text": [
      "---------------------------\n",
      "El método 'index' nos devuelve los índices de la Serie: Index(['lorena', 'marta', 'pilar', 'laura', 'ana', 'maria'], dtype='object')\n",
      "---------------------------\n",
      "El método 'values' nos devuelve los valores de la Serie: [10 20 30 50 86 28]\n",
      "---------------------------\n",
      "El método 'shape' nos devuelve la forma de la Serie: (6,)\n",
      "---------------------------\n",
      "El método 'size' nos devuelve el número de elementos de la Serie: 6\n",
      "---------------------------\n",
      "El método 'dtypes' nos devuelve el tipo de datos de la Serie: int64\n"
     ]
    }
   ],
   "source": [
    "# recordemos la serie\n",
    "display(\"La serie con la que vamos a trabajar es:\", serie_diccionario)\n",
    "print(\"---------------------------\")\n",
    "\n",
    "# utilizamos el método index que nos va a devolver todos los índices \n",
    "# fijaos como en este caso nos ha devuelto todos los índices de nuestra Serie, es decir, los nombres de las alumnas\n",
    "print(f\"El método 'index' nos devuelve los índices de la Serie: {serie_diccionario.index}\")\n",
    "print(\"---------------------------\")\n",
    "\n",
    "# ahora utilizamos el método 'values' nos devuelve todos los valores de la Serie\n",
    "# en este caso los números que teníamos\n",
    "print(f\"El método 'values' nos devuelve los valores de la Serie: {serie_diccionario.values}\")\n",
    "print(\"---------------------------\")\n",
    "\n",
    "#utilizando el método 'shape' nos devuelve el número de \"filas\" que tenemos en la Serie\n",
    "print(f\"El método 'shape' nos devuelve la forma de la Serie: {serie_diccionario.shape}\")\n",
    "print(\"---------------------------\")\n",
    "\n",
    "#utilizando el método 'size' nos devuelve el número de elementos que tenemos en la Serie\n",
    "print(f\"El método 'size' nos devuelve el número de elementos de la Serie: {serie_diccionario.size}\")\n",
    "print(\"---------------------------\")\n",
    "\n",
    "#utilizando el método 'dtypes' nos devuelve el tipo de datos de la Serie\n",
    "print(f\"El método 'dtypes' nos devuelve el tipo de datos de la Serie: {serie_diccionario.dtypes}\")\n",
    "\n"
   ]
  },
  {
   "cell_type": "markdown",
   "metadata": {},
   "source": [
    "## Indexación de las Series\n",
    "\n",
    "La indexación se refiere a la forma en que accedemos a los elementos de una Serie utilizando índices o etiquetas. Pandas ofrece varias opciones para indexar y seleccionar elementos en una Serie. Algunas de las principales formas de realizar la indexación en las Series son:\n",
    "\n",
    "1. **Indexación por posición**: Podemos acceder a los elementos de una Serie utilizando la posición numérica del elemento en la Serie, como hacíamos con las listas\n",
    "\n",
    "2. **Indexación por etiqueta**: Podemos acceder a los elementos de una Serie utilizando las etiquetas de índice asociadas a cada elemento. \n",
    "\n",
    "3. **Indexación por rango**: Podemos acceder a un rango de elementos de una Serie utilizando los índices de inicio y fin. \n",
    "\n",
    "4. **Indexación por lista de índices**: Podemos acceder a varios elementos de una Serie utilizando una lista de índices.\n"
   ]
  },
  {
   "cell_type": "markdown",
   "metadata": {},
   "source": [
    " **Indexación por posición**"
   ]
  },
  {
   "cell_type": "code",
   "execution_count": 8,
   "metadata": {},
   "outputs": [
    {
     "data": {
      "text/plain": [
       "'La serie con la que vamos a trabajar es:'"
      ]
     },
     "metadata": {},
     "output_type": "display_data"
    },
    {
     "data": {
      "text/plain": [
       "lorena    10\n",
       "marta     20\n",
       "pilar     30\n",
       "laura     50\n",
       "ana       86\n",
       "maria     28\n",
       "dtype: int64"
      ]
     },
     "metadata": {},
     "output_type": "display_data"
    },
    {
     "name": "stdout",
     "output_type": "stream",
     "text": [
      "---------------------------\n",
      "El valor que está en posición 0 es: 10\n",
      "---------------------------\n",
      "El valor que está en posición 2 es: 30\n"
     ]
    },
    {
     "name": "stderr",
     "output_type": "stream",
     "text": [
      "/tmp/ipykernel_23697/1694459340.py:5: FutureWarning: Series.__getitem__ treating keys as positions is deprecated. In a future version, integer keys will always be treated as labels (consistent with DataFrame behavior). To access a value by position, use `ser.iloc[pos]`\n",
      "  print(\"El valor que está en posición 0 es:\", serie_diccionario[0])\n",
      "/tmp/ipykernel_23697/1694459340.py:9: FutureWarning: Series.__getitem__ treating keys as positions is deprecated. In a future version, integer keys will always be treated as labels (consistent with DataFrame behavior). To access a value by position, use `ser.iloc[pos]`\n",
      "  print(\"El valor que está en posición 2 es:\", serie_diccionario[2])\n"
     ]
    }
   ],
   "source": [
    "display(\"La serie con la que vamos a trabajar es:\", serie_diccionario)\n",
    "print(\"---------------------------\")\n",
    "\n",
    "# accedemos al primer elemento (10). 🚨 Fijaos como los índices son como los de las listas, empiezan en 0\n",
    "print(\"El valor que está en posición 0 es:\", serie_diccionario[0])  \n",
    "print(\"---------------------------\")\n",
    "\n",
    "# accedemos al tercer elemento (30)\n",
    "print(\"El valor que está en posición 2 es:\", serie_diccionario[2])  \n"
   ]
  },
  {
   "cell_type": "markdown",
   "metadata": {},
   "source": [
    "**Indexación por etiqueta**"
   ]
  },
  {
   "cell_type": "code",
   "execution_count": 9,
   "metadata": {},
   "outputs": [
    {
     "data": {
      "text/plain": [
       "'La serie con la que vamos a trabajar es:'"
      ]
     },
     "metadata": {},
     "output_type": "display_data"
    },
    {
     "data": {
      "text/plain": [
       "lorena    10\n",
       "marta     20\n",
       "pilar     30\n",
       "laura     50\n",
       "ana       86\n",
       "maria     28\n",
       "dtype: int64"
      ]
     },
     "metadata": {},
     "output_type": "display_data"
    },
    {
     "name": "stdout",
     "output_type": "stream",
     "text": [
      "---------------------------\n",
      "El valor que está en posición 0 es: 50\n",
      "---------------------------\n",
      "El valor que está en posición 2 es: 30\n"
     ]
    }
   ],
   "source": [
    "display(\"La serie con la que vamos a trabajar es:\", serie_diccionario)\n",
    "print(\"---------------------------\")\n",
    "\n",
    "\n",
    "# accedemos al valor de la etiqueta de \"laura\" (50). 🚨 Esto lo podríamos comparar con los diccionarios\n",
    "print(\"El valor que está en posición 0 es:\", serie_diccionario[\"laura\"])  \n",
    "print(\"---------------------------\")\n",
    "\n",
    "# accedemos al valor de la etiqueta de \"pilar\" (30). \n",
    "print(\"El valor que está en posición 2 es:\", serie_diccionario[\"pilar\"])  "
   ]
  },
  {
   "cell_type": "markdown",
   "metadata": {},
   "source": [
    "**Indexación por rango**: "
   ]
  },
  {
   "cell_type": "code",
   "execution_count": 10,
   "metadata": {},
   "outputs": [
    {
     "data": {
      "text/plain": [
       "'La serie con la que vamos a trabajar es:'"
      ]
     },
     "metadata": {},
     "output_type": "display_data"
    },
    {
     "data": {
      "text/plain": [
       "lorena    10\n",
       "marta     20\n",
       "pilar     30\n",
       "laura     50\n",
       "ana       86\n",
       "maria     28\n",
       "dtype: int64"
      ]
     },
     "metadata": {},
     "output_type": "display_data"
    },
    {
     "name": "stdout",
     "output_type": "stream",
     "text": [
      "---------------------------\n",
      "Los valores de los índices que están entre las posiciones 1 y 3 (incluida) es: \n",
      " marta    20\n",
      "pilar    30\n",
      "laura    50\n",
      "dtype: int64\n"
     ]
    }
   ],
   "source": [
    "display(\"La serie con la que vamos a trabajar es:\", serie_diccionario)\n",
    "print(\"---------------------------\")\n",
    "\n",
    "# accedemos a los elementos desde el índice 1 al 3 ([30, 50]). 🚨 De niuevo fijaos como esto funciona igual que en listas\n",
    "# nos esta incluyendo el valor que está en el índice 1, pero no el que está en el índice 4\n",
    "print(\"Los valores de los índices que están entre las posiciones 1 y 3 (incluida) es: \\n\", serie_diccionario[1:4])  "
   ]
  },
  {
   "cell_type": "markdown",
   "metadata": {},
   "source": [
    "**Indexación por lista de índices**"
   ]
  },
  {
   "cell_type": "code",
   "execution_count": 11,
   "metadata": {},
   "outputs": [
    {
     "data": {
      "text/plain": [
       "'La serie con la que vamos a trabajar es:'"
      ]
     },
     "metadata": {},
     "output_type": "display_data"
    },
    {
     "data": {
      "text/plain": [
       "lorena    10\n",
       "marta     20\n",
       "pilar     30\n",
       "laura     50\n",
       "ana       86\n",
       "maria     28\n",
       "dtype: int64"
      ]
     },
     "metadata": {},
     "output_type": "display_data"
    },
    {
     "name": "stdout",
     "output_type": "stream",
     "text": [
      "---------------------------\n",
      "Los valores de los índices que están en las posiciones 1,3, y 4 son: \n",
      " lorena    10\n",
      "pilar     30\n",
      "laura     50\n",
      "dtype: int64\n"
     ]
    },
    {
     "name": "stderr",
     "output_type": "stream",
     "text": [
      "/tmp/ipykernel_23697/3366552553.py:5: FutureWarning: Series.__getitem__ treating keys as positions is deprecated. In a future version, integer keys will always be treated as labels (consistent with DataFrame behavior). To access a value by position, use `ser.iloc[pos]`\n",
      "  print(\"Los valores de los índices que están en las posiciones 1,3, y 4 son: \\n\", serie_diccionario[[0,2,3]])\n"
     ]
    }
   ],
   "source": [
    "display(\"La serie con la que vamos a trabajar es:\", serie_diccionario)\n",
    "print(\"---------------------------\")\n",
    "\n",
    "# Acceder a los elementos con índices 1, 3 y 4. 🚨 Fijaos como en este caso, le hemos puesto dos corchetes\n",
    "print(\"Los valores de los índices que están en las posiciones 1,3, y 4 son: \\n\", serie_diccionario[[0,2,3]])  \n",
    "\n"
   ]
  },
  {
   "cell_type": "markdown",
   "metadata": {},
   "source": [
    "# DataFrames en Pandas\n",
    "\n",
    "## ¿Qué es un DataFrame?\n",
    "\n",
    "En el módulo anterior ya habíamos hablado un poco de los DataFrames de Pandas y habíamos hablado de que son. Sin embargo recordemos un poco de ellos y profundizemos un poco más en sus características. Un **DataFrame** es una estructura de datos bidimensional en forma de tabla, similar a una hoja de cálculo o una base de datos relacional. Es una de las estructuras de datos más utilizadas en el análisis de datos con Pandas.\n",
    "\n",
    "Las principales características de los DataFrames son:\n",
    "\n",
    "1. **Estructura tabular**: Los DataFrames están organizados en filas y columnas. Cada columna representa una variable o característica, y cada fila representa una observación o entrada de datos. Esto facilita la visualización y el manejo de los datos en forma tabular.\n",
    "\n",
    "2. **Flexibilidad**: Al contrario que las Series, los DataFrames pueden contener datos de diferentes tipos, como *integer*s, *float*s, cadenas, fechas, *bool*s, entre otros. Además, las columnas pueden tener nombres personalizados y los índices pueden ser etiquetados con valores personalizados.\n",
    "\n",
    "3. **Operaciones eficientes**: Los DataFrames en Pandas están diseñados para realizar operaciones eficientes en grandes conjuntos de datos. Ofrecen una amplia gama de funciones y métodos para manipular y analizar datos de manera rápida y eficiente.\n",
    "\n",
    "4. **Facilidad de importación y exportación**: Los DataFrames pueden leer y escribir datos en diversos formatos, como CSV, Excel, archivos de texto, bases de datos SQL, JSON, entre otros. Esto facilita la importación y exportación de datos desde y hacia diferentes fuentes de datos.\n",
    "\n",
    "5. **Indexación flexible**: Los DataFrames permiten acceder y manipular los datos utilizando diversas técnicas de indexación, como indexación por posición, indexación por etiqueta, indexación booleana y más. Esto permite seleccionar y filtrar datos de manera precisa y eficiente.\n",
    "\n",
    "## Creación de DataFrames\n",
    "\n",
    "En Pandas, podemos crear DataFrames a partir de una variedad de fuentes de datos. Aquí tienes algunos ejemplos de cómo crear DataFrames utilizando diferentes métodos en Pandas:\n",
    "\n",
    "1. **A partir de un diccionario de listas**: Podemos crear un DataFrame a partir de un diccionario de listas, donde cada clave representa una columna y cada valor es una lista representa los valores de esa columna. \n",
    "\n",
    "2. **A partir de una lista de diccionarios**: Podemos crear un DataFrame a partir de una lista de diccionarios, donde cada diccionario representa una fila y las claves del diccionario representan las columnas. \n"
   ]
  },
  {
   "cell_type": "markdown",
   "metadata": {},
   "source": [
    "**A partir de un diccionario de listas**"
   ]
  },
  {
   "cell_type": "code",
   "execution_count": 12,
   "metadata": {},
   "outputs": [
    {
     "data": {
      "text/html": [
       "<div>\n",
       "<style scoped>\n",
       "    .dataframe tbody tr th:only-of-type {\n",
       "        vertical-align: middle;\n",
       "    }\n",
       "\n",
       "    .dataframe tbody tr th {\n",
       "        vertical-align: top;\n",
       "    }\n",
       "\n",
       "    .dataframe thead th {\n",
       "        text-align: right;\n",
       "    }\n",
       "</style>\n",
       "<table border=\"1\" class=\"dataframe\">\n",
       "  <thead>\n",
       "    <tr style=\"text-align: right;\">\n",
       "      <th></th>\n",
       "      <th>Nombre</th>\n",
       "      <th>Edad</th>\n",
       "      <th>Ciudad</th>\n",
       "    </tr>\n",
       "  </thead>\n",
       "  <tbody>\n",
       "    <tr>\n",
       "      <th>0</th>\n",
       "      <td>Ana</td>\n",
       "      <td>25</td>\n",
       "      <td>Madrid</td>\n",
       "    </tr>\n",
       "    <tr>\n",
       "      <th>1</th>\n",
       "      <td>Juan</td>\n",
       "      <td>30</td>\n",
       "      <td>Barcelona</td>\n",
       "    </tr>\n",
       "    <tr>\n",
       "      <th>2</th>\n",
       "      <td>María</td>\n",
       "      <td>28</td>\n",
       "      <td>Valencia</td>\n",
       "    </tr>\n",
       "    <tr>\n",
       "      <th>3</th>\n",
       "      <td>Pedro</td>\n",
       "      <td>35</td>\n",
       "      <td>Sevilla</td>\n",
       "    </tr>\n",
       "  </tbody>\n",
       "</table>\n",
       "</div>"
      ],
      "text/plain": [
       "  Nombre  Edad     Ciudad\n",
       "0    Ana    25     Madrid\n",
       "1   Juan    30  Barcelona\n",
       "2  María    28   Valencia\n",
       "3  Pedro    35    Sevilla"
      ]
     },
     "execution_count": 12,
     "metadata": {},
     "output_type": "execute_result"
    }
   ],
   "source": [
    "# definimos un diccionario que luego convertiremos a DataFrame. Recordemos que esta era la forma que utilizamos en las lecciones del módulo 2 de web scraping\n",
    "data_diccionario = {\n",
    "    'Nombre': ['Ana', 'Juan', 'María', 'Pedro'],\n",
    "    'Edad': [25, 30, 28, 35],\n",
    "    'Ciudad': ['Madrid', 'Barcelona', 'Valencia', 'Sevilla']\n",
    "}\n",
    "\n",
    "# convertimos el diccionario en DataFrame usando el método 'pd.DataFrame'\n",
    "df_diccionario = pd.DataFrame(data_diccionario)\n",
    "\n",
    "# mostramos el DataFrame. Recordad que para ver las 5 primeras filas usaremos el método '.head()' \n",
    "df_diccionario.head()\n"
   ]
  },
  {
   "cell_type": "markdown",
   "metadata": {},
   "source": [
    "**A partir de una lista de diccionarios**"
   ]
  },
  {
   "cell_type": "code",
   "execution_count": 13,
   "metadata": {},
   "outputs": [
    {
     "data": {
      "text/html": [
       "<div>\n",
       "<style scoped>\n",
       "    .dataframe tbody tr th:only-of-type {\n",
       "        vertical-align: middle;\n",
       "    }\n",
       "\n",
       "    .dataframe tbody tr th {\n",
       "        vertical-align: top;\n",
       "    }\n",
       "\n",
       "    .dataframe thead th {\n",
       "        text-align: right;\n",
       "    }\n",
       "</style>\n",
       "<table border=\"1\" class=\"dataframe\">\n",
       "  <thead>\n",
       "    <tr style=\"text-align: right;\">\n",
       "      <th></th>\n",
       "      <th>Nombre</th>\n",
       "      <th>Edad</th>\n",
       "      <th>Ciudad</th>\n",
       "    </tr>\n",
       "  </thead>\n",
       "  <tbody>\n",
       "    <tr>\n",
       "      <th>0</th>\n",
       "      <td>Ana</td>\n",
       "      <td>25</td>\n",
       "      <td>Madrid</td>\n",
       "    </tr>\n",
       "    <tr>\n",
       "      <th>1</th>\n",
       "      <td>Juan</td>\n",
       "      <td>30</td>\n",
       "      <td>Barcelona</td>\n",
       "    </tr>\n",
       "    <tr>\n",
       "      <th>2</th>\n",
       "      <td>María</td>\n",
       "      <td>28</td>\n",
       "      <td>Valencia</td>\n",
       "    </tr>\n",
       "    <tr>\n",
       "      <th>3</th>\n",
       "      <td>Pedro</td>\n",
       "      <td>35</td>\n",
       "      <td>Sevilla</td>\n",
       "    </tr>\n",
       "  </tbody>\n",
       "</table>\n",
       "</div>"
      ],
      "text/plain": [
       "  Nombre  Edad     Ciudad\n",
       "0    Ana    25     Madrid\n",
       "1   Juan    30  Barcelona\n",
       "2  María    28   Valencia\n",
       "3  Pedro    35    Sevilla"
      ]
     },
     "execution_count": 13,
     "metadata": {},
     "output_type": "execute_result"
    }
   ],
   "source": [
    "# definimos una lista de diccionarios que luego usaremos para convertir en DataFrame\n",
    "data_lista = [\n",
    "    {'Nombre': 'Ana', 'Edad': 25, 'Ciudad': 'Madrid'},\n",
    "    {'Nombre': 'Juan', 'Edad': 30, 'Ciudad': 'Barcelona'},\n",
    "    {'Nombre': 'María', 'Edad': 28, 'Ciudad': 'Valencia'},\n",
    "    {'Nombre': 'Pedro', 'Edad': 35, 'Ciudad': 'Sevilla'}\n",
    "]\n",
    "\n",
    "# usamos el método 'pd.DataFrame' para convertir la lista de diccionarios a DataFrame\n",
    "df_lista = pd.DataFrame(data_lista)\n",
    "\n",
    "# mostramos el DataFrame, en este caso usaremos el método '.tail()' para mostrar las últimas 5 filas. \n",
    "df_lista.tail()"
   ]
  },
  {
   "cell_type": "markdown",
   "metadata": {},
   "source": [
    "## Apertura de ficheros en Pandas\n",
    "\n",
    "En Pandas hay varios métodos disponibles para abrir distintos tipos de archivos. Algunos de los métodos más comunes para leer diferentes tipos de archivos en Pandas son los siguientes::\n",
    "\n",
    "1. `pd.read_csv`.\n",
    "\n",
    "2. `pd.read_excel`\n",
    "\n",
    "3. `pd.read_json`\n",
    "\n",
    "4. `pd.read_pickle`"
   ]
  },
  {
   "cell_type": "markdown",
   "metadata": {},
   "source": [
    "## `pd.read_csv()`\n",
    "\n",
    "La sintaxis básica de `pd.read_csv` es la siguiente:\n",
    "\n",
    "```python\n",
    "pd.read_csv(ruta_al_fichero , sep=',', delimiter=None, header='infer', names=None, index_col=None, dtype=None)\n",
    "```\n",
    "\n",
    "Donde:\n",
    "- `ruta_al_fichero`: Es la ruta del archivo CSV que deseas leer.\n",
    "\n",
    "- `sep` (opcional): Es el separador utilizado en el archivo CSV para separar los valores. Por defecto, es una coma (',').\n",
    "\n",
    "- `delimiter` (opcional): Es un alias para `sep`. Puedes usar `delimiter` en lugar de `sep` si prefieres.\n",
    "\n",
    "- `header` (opcional): Indica la fila del archivo CSV que se utilizará como encabezado de columnas. Puede tener los siguientes valores:\n",
    "  - `None`: No hay encabezado y los datos se leerán sin nombres de columna.\n",
    "  - `'infer'`: Intentará inferir automáticamente los nombres de columna del archivo.\n",
    "  - Un número *integer* que especifica la fila del archivo que se utilizará como encabezado de columna (por ejemplo, `header=0`).\n",
    "\n",
    "\n",
    "- `names` (opcional): Es una lista opcional de nombres para las columnas. Si se proporciona, reemplazará los nombres inferidos o los nombres de columna del archivo.\n",
    "\n",
    "- `index_col` (opcional): Especifica la columna (o columnas) que se utilizará como índice del DataFrame resultante. Puede ser un número *integer*, una cadena con el nombre de la columna o una lista de columnas.\n",
    "\n",
    "- `dtype` (opcional): Permite especificar el tipo de datos de las columnas. Puede ser un diccionario que mapee nombres de columna a tipos de datos o un solo tipo de datos para aplicar a todas las columnas.\n",
    "\n",
    "Estos son solo algunos de los parámetros más comunes utilizados en `pd.read_csv`. La función `pd.read_csv` también admite muchos otros parámetros, como `skiprows`, `na_values`, `parse_dates` y más. Siempre podemos consultar la documentación oficial de este método [aquí](https://pandas.pydata.org/docs/reference/api/pandas.read_csv.html) para obtener información más detallada sobre estos parámetros y sus opciones."
   ]
  },
  {
   "cell_type": "code",
   "execution_count": 15,
   "metadata": {},
   "outputs": [
    {
     "data": {
      "text/html": [
       "<div>\n",
       "<style scoped>\n",
       "    .dataframe tbody tr th:only-of-type {\n",
       "        vertical-align: middle;\n",
       "    }\n",
       "\n",
       "    .dataframe tbody tr th {\n",
       "        vertical-align: top;\n",
       "    }\n",
       "\n",
       "    .dataframe thead th {\n",
       "        text-align: right;\n",
       "    }\n",
       "</style>\n",
       "<table border=\"1\" class=\"dataframe\">\n",
       "  <thead>\n",
       "    <tr style=\"text-align: right;\">\n",
       "      <th></th>\n",
       "      <th>id</th>\n",
       "      <th>title</th>\n",
       "      <th>country</th>\n",
       "      <th>location</th>\n",
       "      <th>company</th>\n",
       "      <th>date</th>\n",
       "      <th>description</th>\n",
       "      <th>company_link</th>\n",
       "      <th>experience</th>\n",
       "      <th>keywords</th>\n",
       "    </tr>\n",
       "  </thead>\n",
       "  <tbody>\n",
       "    <tr>\n",
       "      <th>0</th>\n",
       "      <td>1</td>\n",
       "      <td>Frontend Developer</td>\n",
       "      <td>mexico</td>\n",
       "      <td>Hacienda San Pablo, México, Mexico</td>\n",
       "      <td>Vox Feed</td>\n",
       "      <td>2019-08-18</td>\n",
       "      <td>Passion for building interfaces that bring the...</td>\n",
       "      <td>NaN</td>\n",
       "      <td>2</td>\n",
       "      <td>web developer</td>\n",
       "    </tr>\n",
       "  </tbody>\n",
       "</table>\n",
       "</div>"
      ],
      "text/plain": [
       "   id               title country                            location  \\\n",
       "0   1  Frontend Developer  mexico  Hacienda San Pablo, México, Mexico   \n",
       "\n",
       "    company        date                                        description  \\\n",
       "0  Vox Feed  2019-08-18  Passion for building interfaces that bring the...   \n",
       "\n",
       "  company_link  experience       keywords  \n",
       "0          NaN           2  web developer  "
      ]
     },
     "execution_count": 15,
     "metadata": {},
     "output_type": "execute_result"
    }
   ],
   "source": [
    "df_jobs = pd.read_csv(\"../files/jobs.csv\")\n",
    "df_jobs.head(1)"
   ]
  },
  {
   "cell_type": "markdown",
   "metadata": {},
   "source": [
    "Como la propia definición indica, nuestras columnas deben ir separadas por comas. A veces, puede ocurrir que no vengan separados por comas. Como en el ejemplo que vemos a continuación:"
   ]
  },
  {
   "cell_type": "code",
   "execution_count": 16,
   "metadata": {},
   "outputs": [
    {
     "data": {
      "text/html": [
       "<div>\n",
       "<style scoped>\n",
       "    .dataframe tbody tr th:only-of-type {\n",
       "        vertical-align: middle;\n",
       "    }\n",
       "\n",
       "    .dataframe tbody tr th {\n",
       "        vertical-align: top;\n",
       "    }\n",
       "\n",
       "    .dataframe thead th {\n",
       "        text-align: right;\n",
       "    }\n",
       "</style>\n",
       "<table border=\"1\" class=\"dataframe\">\n",
       "  <thead>\n",
       "    <tr style=\"text-align: right;\">\n",
       "      <th></th>\n",
       "      <th>provincia;municipio;estacion;magnitud;punto_muestreo;ano;mes;dia;h01;v01;h02;v02;h03;v03;h04;v04;h05;v05;h06;v06;h07;v07;h08;v08;h09;v09;h10;v10;h11;v11;h12;v12;h13;v13;h14;v14;h15;v15;h16;v16;h17;v17;h18;v18;h19;v19;h20;v20;h21;v21;h22;v22;h23;v23;h24;v24</th>\n",
       "    </tr>\n",
       "  </thead>\n",
       "  <tbody>\n",
       "    <tr>\n",
       "      <th>0</th>\n",
       "      <td>28;102;1;1;28102001_1_38;2022;1;30;3;T;3;T;3;T...</td>\n",
       "    </tr>\n",
       "  </tbody>\n",
       "</table>\n",
       "</div>"
      ],
      "text/plain": [
       "  provincia;municipio;estacion;magnitud;punto_muestreo;ano;mes;dia;h01;v01;h02;v02;h03;v03;h04;v04;h05;v05;h06;v06;h07;v07;h08;v08;h09;v09;h10;v10;h11;v11;h12;v12;h13;v13;h14;v14;h15;v15;h16;v16;h17;v17;h18;v18;h19;v19;h20;v20;h21;v21;h22;v22;h23;v23;h24;v24\n",
       "0  28;102;1;1;28102001_1_38;2022;1;30;3;T;3;T;3;T...                                                                                                                                                                                                              "
      ]
     },
     "execution_count": 16,
     "metadata": {},
     "output_type": "execute_result"
    }
   ],
   "source": [
    "df_aire = pd.read_csv(\"../files/aire.csv\")\n",
    "df_aire.head(1)"
   ]
  },
  {
   "cell_type": "markdown",
   "metadata": {},
   "source": [
    "Oh oh... Algo ha salido mal... Si nos fijamos nuestras columnas están separadas por `;`. ¿Cómo podemos solucionar esto? \n",
    "\n",
    "> Usando el parámetro `sep` de `pd.read_csv` donde tendremos que especificar por qué están separadas mis columnas."
   ]
  },
  {
   "cell_type": "code",
   "execution_count": 17,
   "metadata": {},
   "outputs": [
    {
     "data": {
      "text/html": [
       "<div>\n",
       "<style scoped>\n",
       "    .dataframe tbody tr th:only-of-type {\n",
       "        vertical-align: middle;\n",
       "    }\n",
       "\n",
       "    .dataframe tbody tr th {\n",
       "        vertical-align: top;\n",
       "    }\n",
       "\n",
       "    .dataframe thead th {\n",
       "        text-align: right;\n",
       "    }\n",
       "</style>\n",
       "<table border=\"1\" class=\"dataframe\">\n",
       "  <thead>\n",
       "    <tr style=\"text-align: right;\">\n",
       "      <th></th>\n",
       "      <th>provincia</th>\n",
       "      <th>municipio</th>\n",
       "      <th>estacion</th>\n",
       "      <th>magnitud</th>\n",
       "      <th>punto_muestreo</th>\n",
       "      <th>ano</th>\n",
       "      <th>mes</th>\n",
       "      <th>dia</th>\n",
       "      <th>h01</th>\n",
       "      <th>v01</th>\n",
       "      <th>...</th>\n",
       "      <th>h20</th>\n",
       "      <th>v20</th>\n",
       "      <th>h21</th>\n",
       "      <th>v21</th>\n",
       "      <th>h22</th>\n",
       "      <th>v22</th>\n",
       "      <th>h23</th>\n",
       "      <th>v23</th>\n",
       "      <th>h24</th>\n",
       "      <th>v24</th>\n",
       "    </tr>\n",
       "  </thead>\n",
       "  <tbody>\n",
       "    <tr>\n",
       "      <th>0</th>\n",
       "      <td>28</td>\n",
       "      <td>102</td>\n",
       "      <td>1</td>\n",
       "      <td>1</td>\n",
       "      <td>28102001_1_38</td>\n",
       "      <td>2022</td>\n",
       "      <td>1</td>\n",
       "      <td>30</td>\n",
       "      <td>3.0</td>\n",
       "      <td>T</td>\n",
       "      <td>...</td>\n",
       "      <td>NaN</td>\n",
       "      <td>N</td>\n",
       "      <td>NaN</td>\n",
       "      <td>N</td>\n",
       "      <td>NaN</td>\n",
       "      <td>N</td>\n",
       "      <td>NaN</td>\n",
       "      <td>N</td>\n",
       "      <td>NaN</td>\n",
       "      <td>N</td>\n",
       "    </tr>\n",
       "  </tbody>\n",
       "</table>\n",
       "<p>1 rows × 56 columns</p>\n",
       "</div>"
      ],
      "text/plain": [
       "   provincia  municipio  estacion  magnitud punto_muestreo   ano  mes  dia  \\\n",
       "0         28        102         1         1  28102001_1_38  2022    1   30   \n",
       "\n",
       "   h01 v01  ...  h20 v20  h21 v21  h22 v22  h23 v23  h24 v24  \n",
       "0  3.0   T  ...  NaN   N  NaN   N  NaN   N  NaN   N  NaN   N  \n",
       "\n",
       "[1 rows x 56 columns]"
      ]
     },
     "execution_count": 17,
     "metadata": {},
     "output_type": "execute_result"
    }
   ],
   "source": [
    "df_aire = pd.read_csv(\"../files/aire.csv\", sep = \";\")\n",
    "df_aire.head(1)"
   ]
  },
  {
   "cell_type": "markdown",
   "metadata": {},
   "source": [
    "## `pd.read_excel()`\n",
    "\n",
    "La sintaxis básica de `pd.read_excel` es la siguiente:\n",
    "\n",
    "```python\n",
    "pd.read_excel(ruta_al_fichero, sheet_name=0, header=0, names=None, index_col=None, dtype=None)\n",
    "```\n",
    "\n",
    "Donde:\n",
    "- `ruta_al_fichero`:  Es el nombre del archivo o la ruta de Excel que deseas leer. \n",
    "\n",
    "- `sheet_name` (opcional): Indica la hoja o hojas del archivo Excel que deseas leer. Puede tener los siguientes valores:\n",
    "\n",
    "  - Un número *integer* que especifica el índice de la hoja (por ejemplo, `sheet_name=0` para la primera hoja).\n",
    "\n",
    "  - Un nombre de hoja como una cadena (por ejemplo, `sheet_name='Sheet1'`).\n",
    "\n",
    "  - Una lista de nombres de hojas para leer varias hojas (por ejemplo, `sheet_name=['Sheet1', 'Sheet2']`).\n",
    "\n",
    "- `header` (opcional): Idica la fila del archivo Excel que se utilizará como encabezado de columnas. Puede tener los siguientes valores:\n",
    "\n",
    "  - `None`: No hay encabezado y los datos se leerán sin nombres de columna.\n",
    "\n",
    "  - Un número *integer* que especifica la fila del archivo que se utilizará como encabezado de columna (por ejemplo, `header=0`).\n",
    "\n",
    "- `names` (opcional): Es una lista opcional de nombres para las columnas. Si se proporciona, reemplazará los nombres inferidos o los nombres de columna del archivo.\n",
    "\n",
    "- `index_col` (opcional): Especifica la columna (o columnas) que se utilizará como índice del DataFrame resultante. Puede ser un número *integer*, una cadena con el nombre de la columna o una lista de columnas.\n",
    "\n",
    "- `dtype` (opcional): Permite especificar el tipo de datos de las columnas. Puede ser un diccionario que mapee nombres de columna a tipos de datos o un solo tipo de datos para aplicar a todas las columnas.\n",
    "\n",
    "Además de estos parámetros, `pd.read_excel` también admite otros parámetros opcionales, como `skiprows`, `na_values`, `usecols` y más. Estos parámetros nos permiten personalizar aún más la lectura de archivos Excel según tus necesidades. Al igual que en el método `pd.read_csv()`, podemos  consultar la [documentación oficial](https://pandas.pydata.org/docs/reference/api/pandas.read_excel.html) para obtener información más detallada sobre estos parámetros y sus opciones."
   ]
  },
  {
   "cell_type": "code",
   "execution_count": 18,
   "metadata": {},
   "outputs": [
    {
     "data": {
      "text/html": [
       "<div>\n",
       "<style scoped>\n",
       "    .dataframe tbody tr th:only-of-type {\n",
       "        vertical-align: middle;\n",
       "    }\n",
       "\n",
       "    .dataframe tbody tr th {\n",
       "        vertical-align: top;\n",
       "    }\n",
       "\n",
       "    .dataframe thead th {\n",
       "        text-align: right;\n",
       "    }\n",
       "</style>\n",
       "<table border=\"1\" class=\"dataframe\">\n",
       "  <thead>\n",
       "    <tr style=\"text-align: right;\">\n",
       "      <th></th>\n",
       "      <th>espacio_prot_categoria</th>\n",
       "      <th>espacio_prot_figura</th>\n",
       "      <th>espacio_prot_nombre</th>\n",
       "      <th>espacio_prot_superficie_ha</th>\n",
       "      <th>espacio_prot_fecha_declaracion</th>\n",
       "      <th>espacio_prot_normativa</th>\n",
       "      <th>espacio_prot_informacion_web</th>\n",
       "    </tr>\n",
       "  </thead>\n",
       "  <tbody>\n",
       "    <tr>\n",
       "      <th>0</th>\n",
       "      <td>Áreas protegidas por instrumentos internacionales</td>\n",
       "      <td>Reserva de la Biosfera</td>\n",
       "      <td>Cuencas Altas de los ríos Manzanares, Lozoya y...</td>\n",
       "      <td>105655.000</td>\n",
       "      <td>1992-11-09</td>\n",
       "      <td>Normativa Áreas protegidas por instrumentos in...</td>\n",
       "      <td>Reserva de la Biosfera Cuencas Altas de los rí...</td>\n",
       "    </tr>\n",
       "    <tr>\n",
       "      <th>1</th>\n",
       "      <td>Áreas protegidas por instrumentos internacionales</td>\n",
       "      <td>Reserva de la Biosfera</td>\n",
       "      <td>Sierra del Rincón</td>\n",
       "      <td>15231.000</td>\n",
       "      <td>2005-06-29</td>\n",
       "      <td>Normativa Áreas protegidas por instrumentos in...</td>\n",
       "      <td>Reserva de la Biosfera Sierra del Rincón</td>\n",
       "    </tr>\n",
       "    <tr>\n",
       "      <th>2</th>\n",
       "      <td>Áreas protegidas por instrumentos internacionales</td>\n",
       "      <td>Humedal de Importancia Internacional (RAMSAR)</td>\n",
       "      <td>Humedales del Macizo de Peñalara</td>\n",
       "      <td>487.198</td>\n",
       "      <td>2005-12-16</td>\n",
       "      <td>Normativa Áreas protegidas por instrumentos in...</td>\n",
       "      <td>Humedales Ramsar</td>\n",
       "    </tr>\n",
       "    <tr>\n",
       "      <th>3</th>\n",
       "      <td>Espacios Protegidos Red Natura 2000</td>\n",
       "      <td>Zona de Especial Protección para las Aves</td>\n",
       "      <td>Monte de El Pardo</td>\n",
       "      <td>15298.670</td>\n",
       "      <td>1988-02-01</td>\n",
       "      <td>Normativa Espacios Protegidos Red Natura 2000</td>\n",
       "      <td>Espacios protegidos Red Natura 2000</td>\n",
       "    </tr>\n",
       "    <tr>\n",
       "      <th>4</th>\n",
       "      <td>Espacios Protegidos Red Natura 2000</td>\n",
       "      <td>Zona de Especial Protección para las Aves</td>\n",
       "      <td>Soto de Viñuelas</td>\n",
       "      <td>3071.890</td>\n",
       "      <td>1988-02-01</td>\n",
       "      <td>Normativa Espacios Protegidos Red Natura 2000</td>\n",
       "      <td>Espacios protegidos Red Natura 2000</td>\n",
       "    </tr>\n",
       "  </tbody>\n",
       "</table>\n",
       "</div>"
      ],
      "text/plain": [
       "                              espacio_prot_categoria  \\\n",
       "0  Áreas protegidas por instrumentos internacionales   \n",
       "1  Áreas protegidas por instrumentos internacionales   \n",
       "2  Áreas protegidas por instrumentos internacionales   \n",
       "3                Espacios Protegidos Red Natura 2000   \n",
       "4                Espacios Protegidos Red Natura 2000   \n",
       "\n",
       "                             espacio_prot_figura  \\\n",
       "0                         Reserva de la Biosfera   \n",
       "1                         Reserva de la Biosfera   \n",
       "2  Humedal de Importancia Internacional (RAMSAR)   \n",
       "3      Zona de Especial Protección para las Aves   \n",
       "4      Zona de Especial Protección para las Aves   \n",
       "\n",
       "                                 espacio_prot_nombre  \\\n",
       "0  Cuencas Altas de los ríos Manzanares, Lozoya y...   \n",
       "1                                  Sierra del Rincón   \n",
       "2                  Humedales del Macizo de Peñalara    \n",
       "3                                  Monte de El Pardo   \n",
       "4                                   Soto de Viñuelas   \n",
       "\n",
       "   espacio_prot_superficie_ha espacio_prot_fecha_declaracion  \\\n",
       "0                  105655.000                     1992-11-09   \n",
       "1                   15231.000                     2005-06-29   \n",
       "2                     487.198                     2005-12-16   \n",
       "3                   15298.670                     1988-02-01   \n",
       "4                    3071.890                     1988-02-01   \n",
       "\n",
       "                              espacio_prot_normativa  \\\n",
       "0  Normativa Áreas protegidas por instrumentos in...   \n",
       "1  Normativa Áreas protegidas por instrumentos in...   \n",
       "2  Normativa Áreas protegidas por instrumentos in...   \n",
       "3      Normativa Espacios Protegidos Red Natura 2000   \n",
       "4      Normativa Espacios Protegidos Red Natura 2000   \n",
       "\n",
       "                        espacio_prot_informacion_web  \n",
       "0  Reserva de la Biosfera Cuencas Altas de los rí...  \n",
       "1           Reserva de la Biosfera Sierra del Rincón  \n",
       "2                                   Humedales Ramsar  \n",
       "3                Espacios protegidos Red Natura 2000  \n",
       "4                Espacios protegidos Red Natura 2000  "
      ]
     },
     "execution_count": 18,
     "metadata": {},
     "output_type": "execute_result"
    }
   ],
   "source": [
    "df_xlsx = pd.read_excel(\"../files/espacios_protegidos.xlsx\", sheet_name=0)\n",
    "df_xlsx.head()"
   ]
  },
  {
   "cell_type": "markdown",
   "metadata": {},
   "source": [
    "🚨⚠️ **NOTA** Puede que al ejecutar este línea de código os salga el siguiente error: \n",
    "\n",
    "![error](https://github.com/Adalab/data_imagenes/blob/main/Pandas/error_excel.png?raw=true)\n",
    "\n",
    "**DON'T PANIC!!!** Lo único que tendreís que hacer es importaros `openpyxl`. ¿Cómo? \n",
    "\n",
    "- Nos vamos a la terminal y ejecutamos el siguiente código: \n",
    "\n",
    "```\n",
    "pip3 install openpyxl\n",
    "```\n",
    "\n",
    "o \n",
    "\n",
    "```\n",
    "pip install openpyxl\n",
    "```"
   ]
  },
  {
   "cell_type": "markdown",
   "metadata": {},
   "source": [
    "## `pd.read_json()`\n",
    "\n",
    "La sintaxis básica de `pd.read_json` es la siguiente:\n",
    "\n",
    "```python\n",
    "pd.read_json(ruta_al_fichero, orient=None, typ='frame', dtype=True, convert_axes=True, convert_dates=True, keep_default_dates=True, numpy=False, precise_float=False, date_unit=None, encoding=None, lines=False)\n",
    "```\n",
    "\n",
    "Donde:\n",
    "- `ruta_al_fichero`: Es la ruta del archivo JSON que deseas leer.\n",
    "\n",
    "- `orient` (opcional): Especifica la orientación del archivo JSON. Puede tener los siguientes valores:\n",
    "\n",
    "  - `'columns'` (por defecto): Se espera que el archivo JSON tenga un formato de columna.\n",
    "\n",
    "  - `'index'`: Se espera que el archivo JSON tenga un formato de índice.\n",
    "\n",
    "  - `'records'`: Se espera que el archivo JSON tenga un formato de registros.\n",
    "\n",
    "  - `'split'`: Se espera que el archivo JSON tenga un formato dividido.\n",
    "\n",
    "  - `'values'`: Se espera que el archivo JSON contenga solo valores sin ninguna etiqueta de columna o índice.\n",
    "\n",
    "- `typ` (opcional): Indica el tipo de objeto a crear. Puede tener los siguientes valores:\n",
    "\n",
    "  - `'frame'` (por defecto): Crea un objeto DataFrame.\n",
    "\n",
    "  - `'series'`: Crea un objeto Series.\n",
    "\n",
    "- `dtype` (opcional): Permite especificar el tipo de datos de las columnas. Puede ser un diccionario que mapee nombres de columna a tipos de datos o un solo tipo de datos para aplicar a todas las columnas.\n",
    "\n",
    "- `convert_axes` (opcional): Indica si las etiquetas de los ejes deben convertirse en índices o nombres de columna. Por defecto, es `True`.\n",
    "\n",
    "- `convert_dates` (opcional): Indica si se deben convertir las cadenas de fecha y hora en objetos de fecha y hora. Por defecto, es `True`.\n",
    "\n",
    "- `keep_default_dates` (opcional): Especifica si se deben mantener las fechas predeterminadas al convertir cadenas de fecha y hora. Por defecto, es `True`.\n",
    "\n",
    "- `numpy` (opcional): Indica si los datos deben devolverse como una matriz NumPy en lugar de un objeto DataFrame. Por defecto, es `False`.\n",
    "\n",
    "- `precise_float` (opcional): Indica si se deben utilizar números de punto *float* precisos en lugar de valores de punto *float* nativos de Python. Por defecto, es `False`.\n",
    "\n",
    "- `date_unit` (opcional): Especifica la unidad de fecha y hora si se deben convertir las cadenas de fecha y hora. Puede ser `'s'` para segundos o `'ms'` para milisegundos.\n",
    "\n",
    "- `encoding` (opcional): Permite especificar la codificación del archivo JSON si no se puede inferir automáticamente.\n",
    "\n",
    "- `lines` (opcional): Indica si el archivo JSON contiene múltiples objetos JSON en líneas separadas en lugar de un solo objeto JSON.\n",
    "\n",
    "Estos son solo algunos de los parámetros más comunes utilizados en `pd.read_json`. La función `pd.read_json` también admite otros parámetros opcionales, como `orient`, `date_format`, `numpy`, `compression` y más. Podemos consultar la [documentación oficial](https://pandas.pydata.org/docs/reference/api/pandas.read_json.html) para obtener información más detallada sobre estos parámetros y sus opciones."
   ]
  },
  {
   "cell_type": "code",
   "execution_count": 19,
   "metadata": {},
   "outputs": [
    {
     "data": {
      "text/html": [
       "<div>\n",
       "<style scoped>\n",
       "    .dataframe tbody tr th:only-of-type {\n",
       "        vertical-align: middle;\n",
       "    }\n",
       "\n",
       "    .dataframe tbody tr th {\n",
       "        vertical-align: top;\n",
       "    }\n",
       "\n",
       "    .dataframe thead th {\n",
       "        text-align: right;\n",
       "    }\n",
       "</style>\n",
       "<table border=\"1\" class=\"dataframe\">\n",
       "  <thead>\n",
       "    <tr style=\"text-align: right;\">\n",
       "      <th></th>\n",
       "      <th>data</th>\n",
       "    </tr>\n",
       "  </thead>\n",
       "  <tbody>\n",
       "    <tr>\n",
       "      <th>0</th>\n",
       "      <td>{'residuos_pelig_cantidad_ton': 23476.42, 'res...</td>\n",
       "    </tr>\n",
       "    <tr>\n",
       "      <th>1</th>\n",
       "      <td>{'residuos_pelig_cantidad_ton': 1927.25, 'resi...</td>\n",
       "    </tr>\n",
       "    <tr>\n",
       "      <th>2</th>\n",
       "      <td>{'residuos_pelig_cantidad_ton': 25333.54, 'res...</td>\n",
       "    </tr>\n",
       "    <tr>\n",
       "      <th>3</th>\n",
       "      <td>{'residuos_pelig_cantidad_ton': 22060.07, 'res...</td>\n",
       "    </tr>\n",
       "    <tr>\n",
       "      <th>4</th>\n",
       "      <td>{'residuos_pelig_cantidad_ton': 13109.74, 'res...</td>\n",
       "    </tr>\n",
       "  </tbody>\n",
       "</table>\n",
       "</div>"
      ],
      "text/plain": [
       "                                                data\n",
       "0  {'residuos_pelig_cantidad_ton': 23476.42, 'res...\n",
       "1  {'residuos_pelig_cantidad_ton': 1927.25, 'resi...\n",
       "2  {'residuos_pelig_cantidad_ton': 25333.54, 'res...\n",
       "3  {'residuos_pelig_cantidad_ton': 22060.07, 'res...\n",
       "4  {'residuos_pelig_cantidad_ton': 13109.74, 'res..."
      ]
     },
     "execution_count": 19,
     "metadata": {},
     "output_type": "execute_result"
    }
   ],
   "source": [
    "df_residuos = pd.read_json(\"../files/residuos.json\")\n",
    "df_residuos.head()"
   ]
  },
  {
   "cell_type": "code",
   "execution_count": null,
   "metadata": {},
   "outputs": [
    {
     "name": "stderr",
     "output_type": "stream",
     "text": [
      "/tmp/ipykernel_4867/1252841819.py:5: FutureWarning: Returning a DataFrame from Series.apply when the supplied function returns a Series is deprecated and will be removed in a future version.\n",
      "  df_residuos2 = df_residuos['data'].apply(pd.Series)\n"
     ]
    },
    {
     "data": {
      "text/html": [
       "<div>\n",
       "<style scoped>\n",
       "    .dataframe tbody tr th:only-of-type {\n",
       "        vertical-align: middle;\n",
       "    }\n",
       "\n",
       "    .dataframe tbody tr th {\n",
       "        vertical-align: top;\n",
       "    }\n",
       "\n",
       "    .dataframe thead th {\n",
       "        text-align: right;\n",
       "    }\n",
       "</style>\n",
       "<table border=\"1\" class=\"dataframe\">\n",
       "  <thead>\n",
       "    <tr style=\"text-align: right;\">\n",
       "      <th></th>\n",
       "      <th>residuos_pelig_cantidad_ton</th>\n",
       "      <th>residuos_pelig_año</th>\n",
       "      <th>residuos_pelig_opcion_gestion</th>\n",
       "      <th>residuos_pelig_tratamiento</th>\n",
       "    </tr>\n",
       "  </thead>\n",
       "  <tbody>\n",
       "    <tr>\n",
       "      <th>0</th>\n",
       "      <td>23476.42</td>\n",
       "      <td>2012</td>\n",
       "      <td>Reciclado</td>\n",
       "      <td>Recuperación de disolventes</td>\n",
       "    </tr>\n",
       "    <tr>\n",
       "      <th>1</th>\n",
       "      <td>1927.25</td>\n",
       "      <td>2012</td>\n",
       "      <td>Reciclado</td>\n",
       "      <td>Recuperación de metales</td>\n",
       "    </tr>\n",
       "    <tr>\n",
       "      <th>2</th>\n",
       "      <td>25333.54</td>\n",
       "      <td>2012</td>\n",
       "      <td>Reciclado</td>\n",
       "      <td>Regeneración de aceite</td>\n",
       "    </tr>\n",
       "    <tr>\n",
       "      <th>3</th>\n",
       "      <td>22060.07</td>\n",
       "      <td>2012</td>\n",
       "      <td>Tratamiento previo a otras formas de valorización</td>\n",
       "      <td>Trituración previa a valorización de baterías</td>\n",
       "    </tr>\n",
       "    <tr>\n",
       "      <th>4</th>\n",
       "      <td>13109.74</td>\n",
       "      <td>2012</td>\n",
       "      <td>Tratamiento previo a otras formas de valorización</td>\n",
       "      <td>Operaciones previas a valorización de RAEE</td>\n",
       "    </tr>\n",
       "  </tbody>\n",
       "</table>\n",
       "</div>"
      ],
      "text/plain": [
       "   residuos_pelig_cantidad_ton  residuos_pelig_año  \\\n",
       "0                     23476.42                2012   \n",
       "1                      1927.25                2012   \n",
       "2                     25333.54                2012   \n",
       "3                     22060.07                2012   \n",
       "4                     13109.74                2012   \n",
       "\n",
       "                       residuos_pelig_opcion_gestion  \\\n",
       "0                                          Reciclado   \n",
       "1                                          Reciclado   \n",
       "2                                          Reciclado   \n",
       "3  Tratamiento previo a otras formas de valorización   \n",
       "4  Tratamiento previo a otras formas de valorización   \n",
       "\n",
       "                      residuos_pelig_tratamiento  \n",
       "0                    Recuperación de disolventes  \n",
       "1                        Recuperación de metales  \n",
       "2                         Regeneración de aceite  \n",
       "3  Trituración previa a valorización de baterías  \n",
       "4     Operaciones previas a valorización de RAEE  "
      ]
     },
     "execution_count": 22,
     "metadata": {},
     "output_type": "execute_result"
    }
   ],
   "source": [
    "# esto nos devuelve un DataFrame que esta lleno de diccionarios!\n",
    "# sin embargo, lo podemos convertir fácilmente a algo más legible usando la siguiente sintaxis\n",
    "# este código no es necesario que lo entendamos ahora, más adelante según avancen las lecciones lo iremos entendiendo mejor!\n",
    "\n",
    "df_residuos2 = df_residuos['data'].apply(pd.Series)\n",
    "df_residuos2.head()"
   ]
  },
  {
   "cell_type": "markdown",
   "metadata": {},
   "source": [
    "## `pd.read_pickle`\n",
    "\n",
    "\n",
    "**¿Qué es Pickle exactamente?**\n",
    "\n",
    "Un archivo de tipo pickle es un archivo binario en Python que se utiliza para serializar y deserializar objetos,  su acrónimo viene de *Python Pickle Format* que fue desarrollado exclusivamente para Python. Leyendo solo esto podemos seguir sin tener claro que es un archivo de tipo pickle. Expliquemoslo de una forma más sencilla. Imagina que tienes un montón de objetos especiales en tu habitación, como juguetes, libros, peluches, etc. Ahora, supongamos que quieres guardar todos estos objetos en una caja para poder llevarlos contigo o almacenarlos de manera segura.\n",
    "\n",
    "Aquí es donde entra en juego un archivo pickle. Es como una caja especial que te permite guardar todos estos objetos en ella. Pero, en lugar de objetos físicos, el archivo pickle puede almacenar objetos digitales, como datos, números, listas, diccionarios y más.\n",
    "\n",
    "El archivo pickle es como una caja mágica que puede guardar todos tus objetos digitales de Python. Cuando guardas estos objetos en un archivo pickle, se convierten en una forma especial que se puede almacenar en tu computadora o enviar a alguien más.\n",
    "\n",
    "La sintaxis básica de `pd.read_pickle` es la siguiente:\n",
    "\n",
    "```python\n",
    "pd.read_pickle(ruta_al_fichero, compression='infer')\n",
    "```\n",
    "\n",
    "Donde:\n",
    "\n",
    "- `filepath_or_buffer`: Es la ruta del archivo pickle que deseas leer.\n",
    "\n",
    "- `compression` (opcional): Es un parámetro opcional que indica el tipo de compresión utilizado en el archivo pickle. Por defecto, es `'infer'`, lo que significa que la biblioteca intentará inferir automáticamente el tipo de compresión. Puedes especificar un tipo de compresión explícitamente, como `'gzip'` o `'bz2'`, si el archivo pickle está comprimido.\n"
   ]
  },
  {
   "cell_type": "code",
   "execution_count": 21,
   "metadata": {},
   "outputs": [
    {
     "data": {
      "text/plain": [
       "{'Colombia': 'Bogotá', 'Ecuador': 'Quito', 'Argentina': 'Buenos'}"
      ]
     },
     "execution_count": 21,
     "metadata": {},
     "output_type": "execute_result"
    }
   ],
   "source": [
    "df_pkl = pd.read_pickle(\"../files/paises_capitales.pkl\")\n",
    "df_pkl"
   ]
  },
  {
   "cell_type": "markdown",
   "metadata": {},
   "source": [
    "## loc e iloc (Indexación en Pandas)\n",
    "\n",
    "`loc` y `iloc` son métodos utilizados para acceder y manipular los datos en un DataFrame de Pandas. Ambos métodos se utilizan para la indexación basada en etiquetas o *integer*s, respectivamente.\n",
    "\n",
    "- `loc`: Se utiliza para acceder a los datos utilizando etiquetas de fila y columna. Permite seleccionar filas y columnas **basándose en sus nombres o etiquetas**. La sintaxis general para `loc` es `df.loc[filas, columnas]`, donde `filas` y `columnas` pueden ser una etiqueta única o una lista de etiquetas.\n",
    "\n",
    "- `iloc`: Se utiliza para acceder a los datos utilizando índices *integer*s de fila y columna. Permite seleccionar filas y columnas **basándose en sus posiciones numéricas**. La sintaxis general para `iloc` es `df.iloc[filas, columnas]`, donde `filas` y `columnas` pueden ser un número *integer* único o una lista de números *integer*s.\n",
    "\n",
    "La principal diferencia entre `loc` y `iloc` radica en cómo se realiza la indexación:\n",
    "- `loc`: Utiliza etiquetas o nombres de filas y columnas para realizar la indexación. Por ejemplo, `df.loc[3, 'A']` seleccionará el valor en la fila con etiqueta 3 y la columna con etiqueta 'A'.\n",
    "\n",
    "- `iloc`: Utiliza índices *integers* basados en la posición para realizar la indexación. Por ejemplo, `df.iloc[3, 0]` seleccionará el valor en la cuarta fila y primera columna (como siempre, el índice empieza en 0).\n",
    "\n",
    "Además, `loc` incluye el límite superior en los rangos de selección, mientras que `iloc` excluye el límite superior. Por ejemplo, `df.loc[1:3, 'A']` seleccionará las filas con etiquetas 1, 2 y 3, mientras que `df.iloc[1:3, 0]` seleccionará las filas con índices 1 y 2 (excluyendo el índice 3).\n"
   ]
  },
  {
   "cell_type": "code",
   "execution_count": 22,
   "metadata": {},
   "outputs": [
    {
     "data": {
      "text/html": [
       "<div>\n",
       "<style scoped>\n",
       "    .dataframe tbody tr th:only-of-type {\n",
       "        vertical-align: middle;\n",
       "    }\n",
       "\n",
       "    .dataframe tbody tr th {\n",
       "        vertical-align: top;\n",
       "    }\n",
       "\n",
       "    .dataframe thead th {\n",
       "        text-align: right;\n",
       "    }\n",
       "</style>\n",
       "<table border=\"1\" class=\"dataframe\">\n",
       "  <thead>\n",
       "    <tr style=\"text-align: right;\">\n",
       "      <th></th>\n",
       "      <th>Weather</th>\n",
       "      <th>Temperature</th>\n",
       "      <th>Wind</th>\n",
       "      <th>Humidity</th>\n",
       "    </tr>\n",
       "    <tr>\n",
       "      <th>Day</th>\n",
       "      <th></th>\n",
       "      <th></th>\n",
       "      <th></th>\n",
       "      <th></th>\n",
       "    </tr>\n",
       "  </thead>\n",
       "  <tbody>\n",
       "    <tr>\n",
       "      <th>Mon</th>\n",
       "      <td>Sunny</td>\n",
       "      <td>12.79</td>\n",
       "      <td>13</td>\n",
       "      <td>30</td>\n",
       "    </tr>\n",
       "    <tr>\n",
       "      <th>Tue</th>\n",
       "      <td>Sunny</td>\n",
       "      <td>19.67</td>\n",
       "      <td>28</td>\n",
       "      <td>96</td>\n",
       "    </tr>\n",
       "    <tr>\n",
       "      <th>Wed</th>\n",
       "      <td>Sunny</td>\n",
       "      <td>17.51</td>\n",
       "      <td>16</td>\n",
       "      <td>20</td>\n",
       "    </tr>\n",
       "    <tr>\n",
       "      <th>Thu</th>\n",
       "      <td>Cloudy</td>\n",
       "      <td>14.44</td>\n",
       "      <td>11</td>\n",
       "      <td>22</td>\n",
       "    </tr>\n",
       "    <tr>\n",
       "      <th>Fri</th>\n",
       "      <td>Shower</td>\n",
       "      <td>10.51</td>\n",
       "      <td>26</td>\n",
       "      <td>79</td>\n",
       "    </tr>\n",
       "    <tr>\n",
       "      <th>Sat</th>\n",
       "      <td>Shower</td>\n",
       "      <td>11.07</td>\n",
       "      <td>27</td>\n",
       "      <td>62</td>\n",
       "    </tr>\n",
       "    <tr>\n",
       "      <th>Sun</th>\n",
       "      <td>Sunny</td>\n",
       "      <td>17.50</td>\n",
       "      <td>20</td>\n",
       "      <td>10</td>\n",
       "    </tr>\n",
       "  </tbody>\n",
       "</table>\n",
       "</div>"
      ],
      "text/plain": [
       "    Weather  Temperature  Wind  Humidity\n",
       "Day                                     \n",
       "Mon   Sunny        12.79    13        30\n",
       "Tue   Sunny        19.67    28        96\n",
       "Wed   Sunny        17.51    16        20\n",
       "Thu  Cloudy        14.44    11        22\n",
       "Fri  Shower        10.51    26        79\n",
       "Sat  Shower        11.07    27        62\n",
       "Sun   Sunny        17.50    20        10"
      ]
     },
     "execution_count": 22,
     "metadata": {},
     "output_type": "execute_result"
    }
   ],
   "source": [
    "# importamos un nuevo fichero de datos para entender mejor estos conceptos\n",
    "df = pd.read_csv(\"../files/data.csv\", index_col=[\"Day\"])\n",
    "df"
   ]
  },
  {
   "cell_type": "markdown",
   "metadata": {},
   "source": [
    "### Selección a través de un único elemento\n",
    "En este primer ejercicio vamos a intentar sacar el valor de 96, en concreto hace referencia a la humedad el martes. Recordemos que: \n",
    "\n",
    "- En el `loc` usaremos los nombres de las filas y las columnas (es como el juego de hundir la flota), corresponde a lo que tenemos en rojo en la imagen. \n",
    "\n",
    "- En el `iloc` usaremos los indices de las filas y las columnas, igual que hacíamos en las listas o los *arrays* de NumPy, corresponde con lo que vemos en verde en la imagen. \n",
    "\n",
    "![imagen](https://github.com/Adalab/data_imagenes/blob/main/Pandas/loc-iloc-explicacion_ej1.png?raw=true)"
   ]
  },
  {
   "cell_type": "code",
   "execution_count": null,
   "metadata": {},
   "outputs": [
    {
     "name": "stdout",
     "output_type": "stream",
     "text": [
      "La humedad que hizo el martes usando el LOC es:  96%\n",
      "La humedad que hizo el martes usando el ILOC es:  96%\n"
     ]
    }
   ],
   "source": [
    "# Usando el loc, accediendo por los nombres de las filas y las columnas\n",
    "print(f'La humedad que hizo el martes usando el LOC es:  {df.loc[\"Tue\", \"Humidity\"]}%')\n",
    "\n",
    "# usando el iloc, accediendo por los índices, que empiezan en 0 como siempre en Python\n",
    "print(f'La humedad que hizo el martes usando el ILOC es:  {df.iloc[1, 3]}%')"
   ]
  },
  {
   "cell_type": "markdown",
   "metadata": {},
   "source": [
    "Imaginemos que queremos sacar una fila en concreto pero todas las columnas o viceversa:\n",
    "\n",
    "> En estos casos tendremos que usar `:`, esto índica que lo queremos todo. Es decir: \n",
    "\n",
    "```python\n",
    "[filas-deseadas, :] # le estamos diciendo que nos busque por una fila dada y nos devuelva todas las columnas\n",
    "\n",
    "[:, columna-deseada] # devuelvenos todas las filas de la columna que especifiquemos\n",
    "```\n",
    "\n",
    "Imaginemos ahora que queremos extraer toda la información climática del martes. En este caso, querremos de una fila concreta todas las columnas. \n",
    "\n",
    "![imagen2](https://github.com/Adalab/data_imagenes/blob/main/Pandas/loc-iloc-explicacion_ej2.png?raw=true)"
   ]
  },
  {
   "cell_type": "code",
   "execution_count": null,
   "metadata": {},
   "outputs": [
    {
     "name": "stdout",
     "output_type": "stream",
     "text": [
      "Las condiciones climáticas del martes usando el LOC es: \n",
      "  Weather        Sunny\n",
      "Temperature    19.67\n",
      "Wind              28\n",
      "Humidity          96\n",
      "Name: Tue, dtype: object\n",
      "\n",
      "----------------------\n",
      "\n",
      "Las condiciones climáticas del martes usando el ILOC es: \n",
      "  Weather        Sunny\n",
      "Temperature    19.67\n",
      "Wind              28\n",
      "Humidity          96\n",
      "Name: Tue, dtype: object\n"
     ]
    }
   ],
   "source": [
    "# Usando el loc, accediendo por los nombres de las filas y las columnas\n",
    "print(f'Las condiciones climáticas del martes usando el LOC es: \\n  {df.loc[\"Tue\", :]}')\n",
    "\n",
    "print(\"\\n----------------------\\n\")\n",
    "# Usando el iloc, accediendo por los índices\n",
    "print(f'Las condiciones climáticas del martes usando el ILOC es: \\n  {df.iloc[1, :]}')"
   ]
  },
  {
   "cell_type": "markdown",
   "metadata": {},
   "source": [
    "¿Y si ahora quisieramos extraer el viento que ha hecho durante la semana? En este caso querríamos todas las filas y una sola columna. \n",
    "\n",
    "![imagen3](https://github.com/Adalab/data_imagenes/blob/main/Pandas/loc-iloc-explicacion_ej3.png?raw=true)"
   ]
  },
  {
   "cell_type": "code",
   "execution_count": null,
   "metadata": {},
   "outputs": [
    {
     "name": "stdout",
     "output_type": "stream",
     "text": [
      "Las viento que hizo durante la semana usando el LOC es: \n",
      "  Day\n",
      "Mon    13\n",
      "Tue    28\n",
      "Wed    16\n",
      "Thu    11\n",
      "Fri    26\n",
      "Sat    27\n",
      "Sun    20\n",
      "Name: Wind, dtype: int64\n",
      "\n",
      "----------------------\n",
      "\n",
      "Las condiciones climáticas del martes usando el ILOC es: \n",
      "  Day\n",
      "Mon    13\n",
      "Tue    28\n",
      "Wed    16\n",
      "Thu    11\n",
      "Fri    26\n",
      "Sat    27\n",
      "Sun    20\n",
      "Name: Wind, dtype: int64\n"
     ]
    }
   ],
   "source": [
    "# Usando el loc, accediendo por los nombres de las filas y las columnas\n",
    "print(f'Las viento que hizo durante la semana usando el LOC es: \\n  {df.loc[:, \"Wind\"]}')\n",
    "\n",
    "print(\"\\n----------------------\\n\")\n",
    "# Usando el iloc, accediendo por los índices\n",
    "print(f'Las condiciones climáticas del martes usando el ILOC es: \\n  {df.iloc[:, 2]}')"
   ]
  },
  {
   "cell_type": "markdown",
   "metadata": {},
   "source": [
    "### Selección a través de una lista de valores \n",
    "\n",
    "En este caso la sintaxis del `loc` y el `iloc` cambian un poco. Seguiremos usando los nombres de las filas y las columnas para el `loc` y los índices para el `iloc`, pero tendremos que añadir algún corchete más. \n",
    "\n",
    "```python\n",
    "[[fila_deseada1, fila_deseada2], :] # le estamos diciendo que nos busque por una fila dada y nos devuelva todas las columnas. FIJAOS COMO LO QUE HEMOS HECHO HA SIDO AÑADIR UNOS CORCHETES MÁS DONDE INCLUIREMOS LOS NOMBRES DE LAS FILAS O COLUMNAS QUE QUERRAMOS SEPARADAS POR COMAS. Los ':' siguen indicando que queremo todas las columnas en este caso.\n",
    "\n",
    "[:, [col_deseada1, col_deseada2]] # devuelvenos todas las filas de la columna que especifiquemos. FIJAOS COMO LO QUE HEMOS HECHO HA SIDO AÑADIR UNOS CORCHETES MÁS DONDE INCLUIREMOS LOS NOMBRES DE LAS FILAS O COLUMNAS QUE QUERRAMOS SEPARADAS POR COMAS. Los ':' siguen indicando que queremos todas las filas.\n",
    "```"
   ]
  },
  {
   "cell_type": "markdown",
   "metadata": {},
   "source": [
    "Ahora queremos extraer la información del viento, pero ya no lo queremos para toda la semana, en realidad lo quiero para el martes y el domingo. "
   ]
  },
  {
   "cell_type": "code",
   "execution_count": null,
   "metadata": {},
   "outputs": [
    {
     "name": "stdout",
     "output_type": "stream",
     "text": [
      "El viento que hizo el martes y el domingo usando el LOC es: \n",
      "  Day\n",
      "Tue    28\n",
      "Sat    27\n",
      "Name: Wind, dtype: int64\n",
      "\n",
      "----------------------\n",
      "\n",
      "El viento que hizo el martes y el domingo  usando el ILOC es: \n",
      "  Day\n",
      "Tue    28\n",
      "Sat    27\n",
      "Name: Wind, dtype: int64\n"
     ]
    }
   ],
   "source": [
    "# Usando el loc, accediendo por los nombres de las filas y las columnas\n",
    "print(f'El viento que hizo el martes y el domingo usando el LOC es: \\n  {df.loc[[\"Tue\", \"Sat\"], \"Wind\"]}')\n",
    "\n",
    "print(\"\\n----------------------\\n\")\n",
    "# Usando el iloc, accediendo por los índices\n",
    "print(f'El viento que hizo el martes y el domingo  usando el ILOC es: \\n  {df.iloc[[1, 5], 2]}')"
   ]
  },
  {
   "cell_type": "markdown",
   "metadata": {},
   "source": [
    "Imaginemos ahora que no queremos solo la información del viento para el martes y el domingo, sino que también queremos la información de la temperatura."
   ]
  },
  {
   "cell_type": "code",
   "execution_count": null,
   "metadata": {},
   "outputs": [
    {
     "name": "stdout",
     "output_type": "stream",
     "text": [
      "El viento y la temperatura que hizo el martes y el domingo usando el LOC es: \n",
      "       Wind  Temperature\n",
      "Day                   \n",
      "Tue    28        19.67\n",
      "Sat    27        11.07\n",
      "\n",
      "----------------------\n",
      "\n",
      "El viento y la temperatura que hizo el martes y el domingo usando el ILOC es: \n",
      "       Temperature  Wind\n",
      "Day                   \n",
      "Tue        19.67    28\n",
      "Sat        11.07    27\n"
     ]
    }
   ],
   "source": [
    "# Usando el loc, accediendo por los nombres de las filas y las columnas\n",
    "print(f'El viento y la temperatura que hizo el martes y el domingo usando el LOC es: \\n  {df.loc[[\"Tue\", \"Sat\"], [\"Wind\", \"Temperature\"]]}')\n",
    "\n",
    "print(\"\\n----------------------\\n\")\n",
    "# Usando el iloc, accediendo por los índices\n",
    "print(f'El viento y la temperatura que hizo el martes y el domingo usando el ILOC es: \\n  {df.iloc[[1, 5], [1,2]]}')"
   ]
  },
  {
   "cell_type": "markdown",
   "metadata": {},
   "source": [
    "### Selección de un rango de datos a través de un corte\n",
    "\n",
    "En este caso podremos usar la sintaxis de `[start:stop:step]` que conocemos de listas. "
   ]
  },
  {
   "cell_type": "code",
   "execution_count": null,
   "metadata": {},
   "outputs": [
    {
     "data": {
      "text/html": [
       "<div>\n",
       "<style scoped>\n",
       "    .dataframe tbody tr th:only-of-type {\n",
       "        vertical-align: middle;\n",
       "    }\n",
       "\n",
       "    .dataframe tbody tr th {\n",
       "        vertical-align: top;\n",
       "    }\n",
       "\n",
       "    .dataframe thead th {\n",
       "        text-align: right;\n",
       "    }\n",
       "</style>\n",
       "<table border=\"1\" class=\"dataframe\">\n",
       "  <thead>\n",
       "    <tr style=\"text-align: right;\">\n",
       "      <th></th>\n",
       "      <th>Weather</th>\n",
       "      <th>Temperature</th>\n",
       "      <th>Wind</th>\n",
       "      <th>Humidity</th>\n",
       "    </tr>\n",
       "    <tr>\n",
       "      <th>Day</th>\n",
       "      <th></th>\n",
       "      <th></th>\n",
       "      <th></th>\n",
       "      <th></th>\n",
       "    </tr>\n",
       "  </thead>\n",
       "  <tbody>\n",
       "    <tr>\n",
       "      <th>Mon</th>\n",
       "      <td>Sunny</td>\n",
       "      <td>12.79</td>\n",
       "      <td>13</td>\n",
       "      <td>30</td>\n",
       "    </tr>\n",
       "    <tr>\n",
       "      <th>Tue</th>\n",
       "      <td>Sunny</td>\n",
       "      <td>19.67</td>\n",
       "      <td>28</td>\n",
       "      <td>96</td>\n",
       "    </tr>\n",
       "    <tr>\n",
       "      <th>Wed</th>\n",
       "      <td>Sunny</td>\n",
       "      <td>17.51</td>\n",
       "      <td>16</td>\n",
       "      <td>20</td>\n",
       "    </tr>\n",
       "    <tr>\n",
       "      <th>Thu</th>\n",
       "      <td>Cloudy</td>\n",
       "      <td>14.44</td>\n",
       "      <td>11</td>\n",
       "      <td>22</td>\n",
       "    </tr>\n",
       "    <tr>\n",
       "      <th>Fri</th>\n",
       "      <td>Shower</td>\n",
       "      <td>10.51</td>\n",
       "      <td>26</td>\n",
       "      <td>79</td>\n",
       "    </tr>\n",
       "    <tr>\n",
       "      <th>Sat</th>\n",
       "      <td>Shower</td>\n",
       "      <td>11.07</td>\n",
       "      <td>27</td>\n",
       "      <td>62</td>\n",
       "    </tr>\n",
       "    <tr>\n",
       "      <th>Sun</th>\n",
       "      <td>Sunny</td>\n",
       "      <td>17.50</td>\n",
       "      <td>20</td>\n",
       "      <td>10</td>\n",
       "    </tr>\n",
       "  </tbody>\n",
       "</table>\n",
       "</div>"
      ],
      "text/plain": [
       "    Weather  Temperature  Wind  Humidity\n",
       "Day                                     \n",
       "Mon   Sunny        12.79    13        30\n",
       "Tue   Sunny        19.67    28        96\n",
       "Wed   Sunny        17.51    16        20\n",
       "Thu  Cloudy        14.44    11        22\n",
       "Fri  Shower        10.51    26        79\n",
       "Sat  Shower        11.07    27        62\n",
       "Sun   Sunny        17.50    20        10"
      ]
     },
     "execution_count": 31,
     "metadata": {},
     "output_type": "execute_result"
    }
   ],
   "source": [
    "# lo primero que vamos a hacer es recordar el DataFrame\n",
    "df"
   ]
  },
  {
   "cell_type": "markdown",
   "metadata": {},
   "source": [
    "En este ejercicio vamos a querer sacar la temperatura, el viento y la humedad del martes y el viernes. "
   ]
  },
  {
   "cell_type": "code",
   "execution_count": null,
   "metadata": {},
   "outputs": [
    {
     "name": "stdout",
     "output_type": "stream",
     "text": [
      "El viento, la temperatura y la humedad que hizo el martes y el viernes usando el LOC es: \n",
      "       Temperature  Wind  Humidity\n",
      "Day                             \n",
      "Thu        14.44    11        22\n",
      "Fri        10.51    26        79\n",
      "\n",
      "----------------------\n",
      "\n",
      "El viento, la temperatura y la humedad que hizo el martes y el viernes usando el ILOC es: \n",
      "       Temperature  Wind  Humidity\n",
      "Day                             \n",
      "Tue        19.67    28        96\n",
      "Sat        11.07    27        62\n"
     ]
    }
   ],
   "source": [
    "# Usando el loc, accediendo por los nombres de las filas y las columnas\n",
    "print(f\"El viento, la temperatura y la humedad que hizo el martes y el viernes usando el LOC es: \\n  {df.loc[['Thu', 'Fri'], 'Temperature':'Humidity' ]}\")\n",
    "\n",
    "print(\"\\n----------------------\\n\")\n",
    "# Usando el iloc, accediendo por los índices\n",
    "print(f'El viento, la temperatura y la humedad que hizo el martes y el viernes usando el ILOC es: \\n  {df.iloc[[1, 5], 1:4]}')"
   ]
  },
  {
   "cell_type": "markdown",
   "metadata": {},
   "source": [
    "Y si quisieramos saber todas las condiciones climáticas del lunes , miércoles y viernes? En este caso tendremos que hacer uso del `[start_ stop: step]`"
   ]
  },
  {
   "cell_type": "code",
   "execution_count": null,
   "metadata": {},
   "outputs": [
    {
     "name": "stdout",
     "output_type": "stream",
     "text": [
      "Las condiciones climáticas que hicieron el lunes, miércoles y viernes usando el LOC es: \n",
      "      Weather  Temperature  Wind  Humidity\n",
      "Day                                     \n",
      "Mon   Sunny        12.79    13        30\n",
      "Wed   Sunny        17.51    16        20\n",
      "Fri  Shower        10.51    26        79\n",
      "\n",
      "----------------------\n",
      "\n",
      "El viento, la temperatura y la humedad que hizo el martes y el viernes usando el ILOC es: \n",
      "      Weather  Temperature  Wind  Humidity\n",
      "Day                                     \n",
      "Mon   Sunny        12.79    13        30\n",
      "Wed   Sunny        17.51    16        20\n",
      "Fri  Shower        10.51    26        79\n"
     ]
    }
   ],
   "source": [
    "# Usando el loc, accediendo por los nombres de las filas y las columnas\n",
    "print(f\"Las condiciones climáticas que hicieron el lunes, miércoles y viernes usando el LOC es: \\n  {df.loc['Mon':'Fri':2 , :]}\")\n",
    "\n",
    "print(\"\\n----------------------\\n\")\n",
    "# Usando el iloc, accediendo por los índices\n",
    "print(f'El viento, la temperatura y la humedad que hizo el martes y el viernes usando el ILOC es: \\n  {df.iloc[0:6:2, :]}')"
   ]
  },
  {
   "cell_type": "markdown",
   "metadata": {},
   "source": [
    "### Seleccionar basado en una condición \n",
    "\n",
    "Al igual que en NumPy podemos filtrar los datos de nuestro DataFrame usando operadores de comparación,  como `>`, `<`, `>=`, `<=`, `==` o `!=`. Pero antes de ponernos a ver como filtrar datos, aprendamos ha acceder solo a una columna de nuestro DataFrame. Podríamos pensar que lo podemos hacer con un `loc` o un `iloc` como hemos estado viendo hasta ahora, pero hay una forma un poco más sencilla. Para eso deberemos seguir la siguiente sintaxis:\n",
    "\n",
    "```python\n",
    "df[\"nombre_columna\"]\n",
    "df.nombre_columna\n",
    "# estas dos opciones me devuelven exactamente lo mismo. \n",
    "```"
   ]
  },
  {
   "cell_type": "code",
   "execution_count": null,
   "metadata": {},
   "outputs": [
    {
     "data": {
      "text/html": [
       "<div>\n",
       "<style scoped>\n",
       "    .dataframe tbody tr th:only-of-type {\n",
       "        vertical-align: middle;\n",
       "    }\n",
       "\n",
       "    .dataframe tbody tr th {\n",
       "        vertical-align: top;\n",
       "    }\n",
       "\n",
       "    .dataframe thead th {\n",
       "        text-align: right;\n",
       "    }\n",
       "</style>\n",
       "<table border=\"1\" class=\"dataframe\">\n",
       "  <thead>\n",
       "    <tr style=\"text-align: right;\">\n",
       "      <th></th>\n",
       "      <th>Weather</th>\n",
       "      <th>Temperature</th>\n",
       "      <th>Wind</th>\n",
       "      <th>Humidity</th>\n",
       "    </tr>\n",
       "    <tr>\n",
       "      <th>Day</th>\n",
       "      <th></th>\n",
       "      <th></th>\n",
       "      <th></th>\n",
       "      <th></th>\n",
       "    </tr>\n",
       "  </thead>\n",
       "  <tbody>\n",
       "    <tr>\n",
       "      <th>Mon</th>\n",
       "      <td>Sunny</td>\n",
       "      <td>12.79</td>\n",
       "      <td>13</td>\n",
       "      <td>30</td>\n",
       "    </tr>\n",
       "    <tr>\n",
       "      <th>Tue</th>\n",
       "      <td>Sunny</td>\n",
       "      <td>19.67</td>\n",
       "      <td>28</td>\n",
       "      <td>96</td>\n",
       "    </tr>\n",
       "    <tr>\n",
       "      <th>Wed</th>\n",
       "      <td>Sunny</td>\n",
       "      <td>17.51</td>\n",
       "      <td>16</td>\n",
       "      <td>20</td>\n",
       "    </tr>\n",
       "    <tr>\n",
       "      <th>Thu</th>\n",
       "      <td>Cloudy</td>\n",
       "      <td>14.44</td>\n",
       "      <td>11</td>\n",
       "      <td>22</td>\n",
       "    </tr>\n",
       "    <tr>\n",
       "      <th>Fri</th>\n",
       "      <td>Shower</td>\n",
       "      <td>10.51</td>\n",
       "      <td>26</td>\n",
       "      <td>79</td>\n",
       "    </tr>\n",
       "    <tr>\n",
       "      <th>Sat</th>\n",
       "      <td>Shower</td>\n",
       "      <td>11.07</td>\n",
       "      <td>27</td>\n",
       "      <td>62</td>\n",
       "    </tr>\n",
       "    <tr>\n",
       "      <th>Sun</th>\n",
       "      <td>Sunny</td>\n",
       "      <td>17.50</td>\n",
       "      <td>20</td>\n",
       "      <td>10</td>\n",
       "    </tr>\n",
       "  </tbody>\n",
       "</table>\n",
       "</div>"
      ],
      "text/plain": [
       "    Weather  Temperature  Wind  Humidity\n",
       "Day                                     \n",
       "Mon   Sunny        12.79    13        30\n",
       "Tue   Sunny        19.67    28        96\n",
       "Wed   Sunny        17.51    16        20\n",
       "Thu  Cloudy        14.44    11        22\n",
       "Fri  Shower        10.51    26        79\n",
       "Sat  Shower        11.07    27        62\n",
       "Sun   Sunny        17.50    20        10"
      ]
     },
     "execution_count": 34,
     "metadata": {},
     "output_type": "execute_result"
    }
   ],
   "source": [
    "# recordamos el DataFrame\n",
    "df"
   ]
  },
  {
   "cell_type": "code",
   "execution_count": null,
   "metadata": {},
   "outputs": [
    {
     "data": {
      "text/plain": [
       "Day\n",
       "Mon    12.79\n",
       "Tue    19.67\n",
       "Wed    17.51\n",
       "Thu    14.44\n",
       "Fri    10.51\n",
       "Sat    11.07\n",
       "Sun    17.50\n",
       "Name: Temperature, dtype: float64"
      ]
     },
     "execution_count": 35,
     "metadata": {},
     "output_type": "execute_result"
    }
   ],
   "source": [
    "# accedemos a los datos de la columna 'Temperature'\n",
    "# Fijaos como nos ha devuelto una serie donde tenemos todos los valores de la columna 'Temperature'\n",
    "df[\"Temperature\"]"
   ]
  },
  {
   "cell_type": "code",
   "execution_count": null,
   "metadata": {},
   "outputs": [
    {
     "data": {
      "text/plain": [
       "Day\n",
       "Mon    12.79\n",
       "Tue    19.67\n",
       "Wed    17.51\n",
       "Thu    14.44\n",
       "Fri    10.51\n",
       "Sat    11.07\n",
       "Sun    17.50\n",
       "Name: Temperature, dtype: float64"
      ]
     },
     "execution_count": 36,
     "metadata": {},
     "output_type": "execute_result"
    }
   ],
   "source": [
    "# El código de arriba es exactamente igual que:\n",
    "df.Temperature"
   ]
  },
  {
   "cell_type": "markdown",
   "metadata": {},
   "source": [
    "¿Y que pasaría si quisiera acceder a varias columnas? Solo podremos usar la sintaxis `df[[\"columna_1\", \"columna_2\"]]`. Fijaos como ahora estamos añadiendo un corchete extra a la sintaxis que hemos aprendido en los pasos anteriores. "
   ]
  },
  {
   "cell_type": "code",
   "execution_count": null,
   "metadata": {},
   "outputs": [
    {
     "data": {
      "text/html": [
       "<div>\n",
       "<style scoped>\n",
       "    .dataframe tbody tr th:only-of-type {\n",
       "        vertical-align: middle;\n",
       "    }\n",
       "\n",
       "    .dataframe tbody tr th {\n",
       "        vertical-align: top;\n",
       "    }\n",
       "\n",
       "    .dataframe thead th {\n",
       "        text-align: right;\n",
       "    }\n",
       "</style>\n",
       "<table border=\"1\" class=\"dataframe\">\n",
       "  <thead>\n",
       "    <tr style=\"text-align: right;\">\n",
       "      <th></th>\n",
       "      <th>Temperature</th>\n",
       "      <th>Wind</th>\n",
       "    </tr>\n",
       "    <tr>\n",
       "      <th>Day</th>\n",
       "      <th></th>\n",
       "      <th></th>\n",
       "    </tr>\n",
       "  </thead>\n",
       "  <tbody>\n",
       "    <tr>\n",
       "      <th>Mon</th>\n",
       "      <td>12.79</td>\n",
       "      <td>13</td>\n",
       "    </tr>\n",
       "    <tr>\n",
       "      <th>Tue</th>\n",
       "      <td>19.67</td>\n",
       "      <td>28</td>\n",
       "    </tr>\n",
       "    <tr>\n",
       "      <th>Wed</th>\n",
       "      <td>17.51</td>\n",
       "      <td>16</td>\n",
       "    </tr>\n",
       "    <tr>\n",
       "      <th>Thu</th>\n",
       "      <td>14.44</td>\n",
       "      <td>11</td>\n",
       "    </tr>\n",
       "    <tr>\n",
       "      <th>Fri</th>\n",
       "      <td>10.51</td>\n",
       "      <td>26</td>\n",
       "    </tr>\n",
       "    <tr>\n",
       "      <th>Sat</th>\n",
       "      <td>11.07</td>\n",
       "      <td>27</td>\n",
       "    </tr>\n",
       "    <tr>\n",
       "      <th>Sun</th>\n",
       "      <td>17.50</td>\n",
       "      <td>20</td>\n",
       "    </tr>\n",
       "  </tbody>\n",
       "</table>\n",
       "</div>"
      ],
      "text/plain": [
       "     Temperature  Wind\n",
       "Day                   \n",
       "Mon        12.79    13\n",
       "Tue        19.67    28\n",
       "Wed        17.51    16\n",
       "Thu        14.44    11\n",
       "Fri        10.51    26\n",
       "Sat        11.07    27\n",
       "Sun        17.50    20"
      ]
     },
     "execution_count": 37,
     "metadata": {},
     "output_type": "execute_result"
    }
   ],
   "source": [
    "df[[\"Temperature\", \"Wind\"]]"
   ]
  },
  {
   "cell_type": "markdown",
   "metadata": {},
   "source": [
    "Una vez que hemos visto esto como acceder a los datos de una o varias columnas unicamente, vamos a ver como podemos filtrar los datos del DataFrame, igual que hacíamos en los *arrays*. \n",
    "\n",
    "En este primer ejemplo, vamos a quedarnos con todos los datos donde la temperatura sea mayor que 12ºC. En este caso seguiremos la siguiente sintaxis: \n",
    "\n",
    "```python\n",
    "df.loc[df[\"columna\"] CONDICION]\n",
    "```"
   ]
  },
  {
   "cell_type": "code",
   "execution_count": null,
   "metadata": {},
   "outputs": [
    {
     "name": "stdout",
     "output_type": "stream",
     "text": [
      "El resultado usando la sintaxis de DF.COLUMNA usando LOC es:\n",
      "     Weather  Temperature  Wind  Humidity\n",
      "Day                                     \n",
      "Mon   Sunny        12.79    13        30\n",
      "Tue   Sunny        19.67    28        96\n",
      "Wed   Sunny        17.51    16        20\n",
      "Thu  Cloudy        14.44    11        22\n",
      "Sun   Sunny        17.50    20        10\n",
      "\n",
      " --------------- \n",
      "\n",
      "El resultado usando la sintaxis de df['COLUMNA'] usando LOC es:\n",
      "     Weather  Temperature  Wind  Humidity\n",
      "Day                                     \n",
      "Mon   Sunny        12.79    13        30\n",
      "Tue   Sunny        19.67    28        96\n",
      "Wed   Sunny        17.51    16        20\n",
      "Thu  Cloudy        14.44    11        22\n",
      "Sun   Sunny        17.50    20        10\n"
     ]
    }
   ],
   "source": [
    "# filtramos nuestros datos para quedarnos solo con las filas donde la temperatura sean mayor que 12\n",
    "df_mayor_12_1 = df.loc[df.Temperature > 12, :]\n",
    "print(f\"El resultado usando la sintaxis de DF.COLUMNA usando LOC es:\\n {df_mayor_12_1}\")\n",
    "\n",
    "print(\"\\n --------------- \\n\")\n",
    "\n",
    "# la linea de arriba es exactamente la misma que esta que vemos aquí abajo\n",
    "df_mayor_12_2 = df.loc[df[\"Temperature\"] > 12, :]\n",
    "print(f\"El resultado usando la sintaxis de df['COLUMNA'] usando LOC es:\\n {df_mayor_12_1}\")\n"
   ]
  },
  {
   "cell_type": "code",
   "execution_count": null,
   "metadata": {},
   "outputs": [
    {
     "ename": "KeyError",
     "evalue": "1",
     "output_type": "error",
     "traceback": [
      "\u001b[0;31m---------------------------------------------------------------------------\u001b[0m",
      "\u001b[0;31mKeyError\u001b[0m                                  Traceback (most recent call last)",
      "File \u001b[0;32m~/anaconda3/envs/promof/lib/python3.11/site-packages/pandas/core/indexes/base.py:3790\u001b[0m, in \u001b[0;36mIndex.get_loc\u001b[0;34m(self, key)\u001b[0m\n\u001b[1;32m   3789\u001b[0m \u001b[39mtry\u001b[39;00m:\n\u001b[0;32m-> 3790\u001b[0m     \u001b[39mreturn\u001b[39;00m \u001b[39mself\u001b[39;49m\u001b[39m.\u001b[39;49m_engine\u001b[39m.\u001b[39;49mget_loc(casted_key)\n\u001b[1;32m   3791\u001b[0m \u001b[39mexcept\u001b[39;00m \u001b[39mKeyError\u001b[39;00m \u001b[39mas\u001b[39;00m err:\n",
      "File \u001b[0;32mindex.pyx:152\u001b[0m, in \u001b[0;36mpandas._libs.index.IndexEngine.get_loc\u001b[0;34m()\u001b[0m\n",
      "File \u001b[0;32mindex.pyx:181\u001b[0m, in \u001b[0;36mpandas._libs.index.IndexEngine.get_loc\u001b[0;34m()\u001b[0m\n",
      "File \u001b[0;32mpandas/_libs/hashtable_class_helper.pxi:7080\u001b[0m, in \u001b[0;36mpandas._libs.hashtable.PyObjectHashTable.get_item\u001b[0;34m()\u001b[0m\n",
      "File \u001b[0;32mpandas/_libs/hashtable_class_helper.pxi:7088\u001b[0m, in \u001b[0;36mpandas._libs.hashtable.PyObjectHashTable.get_item\u001b[0;34m()\u001b[0m\n",
      "\u001b[0;31mKeyError\u001b[0m: 1",
      "\nThe above exception was the direct cause of the following exception:\n",
      "\u001b[0;31mKeyError\u001b[0m                                  Traceback (most recent call last)",
      "\u001b[1;32m/mnt/c/Users/agarc/Documents/Adalab/promo-Farzana/da-materiales-del-curso/modulo-3/lecciones/assets/notebooks-clase-invertida/modulo-3-leccion-02-tec-exploracion-I-básicos.ipynb Cell 72\u001b[0m line \u001b[0;36m3\n\u001b[1;32m      <a href='vscode-notebook-cell://wsl%2Bubuntu/mnt/c/Users/agarc/Documents/Adalab/promo-Farzana/da-materiales-del-curso/modulo-3/lecciones/assets/notebooks-clase-invertida/modulo-3-leccion-02-tec-exploracion-I-b%C3%A1sicos.ipynb#Y132sdnNjb2RlLXJlbW90ZQ%3D%3D?line=0'>1</a>\u001b[0m \u001b[39m# ¿y como lo haríamos con iloc? Se nos ocurriría que usando los corchetes, poniendo el índice de la columna que queremos usar como filtro. \u001b[39;00m\n\u001b[1;32m      <a href='vscode-notebook-cell://wsl%2Bubuntu/mnt/c/Users/agarc/Documents/Adalab/promo-Farzana/da-materiales-del-curso/modulo-3/lecciones/assets/notebooks-clase-invertida/modulo-3-leccion-02-tec-exploracion-I-b%C3%A1sicos.ipynb#Y132sdnNjb2RlLXJlbW90ZQ%3D%3D?line=1'>2</a>\u001b[0m \u001b[39m# veamoslo. \u001b[39;00m\n\u001b[0;32m----> <a href='vscode-notebook-cell://wsl%2Bubuntu/mnt/c/Users/agarc/Documents/Adalab/promo-Farzana/da-materiales-del-curso/modulo-3/lecciones/assets/notebooks-clase-invertida/modulo-3-leccion-02-tec-exploracion-I-b%C3%A1sicos.ipynb#Y132sdnNjb2RlLXJlbW90ZQ%3D%3D?line=2'>3</a>\u001b[0m df\u001b[39m.\u001b[39miloc[df[\u001b[39m1\u001b[39;49m] \u001b[39m>\u001b[39m \u001b[39m12\u001b[39m, :]\n",
      "File \u001b[0;32m~/anaconda3/envs/promof/lib/python3.11/site-packages/pandas/core/frame.py:3896\u001b[0m, in \u001b[0;36mDataFrame.__getitem__\u001b[0;34m(self, key)\u001b[0m\n\u001b[1;32m   3894\u001b[0m \u001b[39mif\u001b[39;00m \u001b[39mself\u001b[39m\u001b[39m.\u001b[39mcolumns\u001b[39m.\u001b[39mnlevels \u001b[39m>\u001b[39m \u001b[39m1\u001b[39m:\n\u001b[1;32m   3895\u001b[0m     \u001b[39mreturn\u001b[39;00m \u001b[39mself\u001b[39m\u001b[39m.\u001b[39m_getitem_multilevel(key)\n\u001b[0;32m-> 3896\u001b[0m indexer \u001b[39m=\u001b[39m \u001b[39mself\u001b[39;49m\u001b[39m.\u001b[39;49mcolumns\u001b[39m.\u001b[39;49mget_loc(key)\n\u001b[1;32m   3897\u001b[0m \u001b[39mif\u001b[39;00m is_integer(indexer):\n\u001b[1;32m   3898\u001b[0m     indexer \u001b[39m=\u001b[39m [indexer]\n",
      "File \u001b[0;32m~/anaconda3/envs/promof/lib/python3.11/site-packages/pandas/core/indexes/base.py:3797\u001b[0m, in \u001b[0;36mIndex.get_loc\u001b[0;34m(self, key)\u001b[0m\n\u001b[1;32m   3792\u001b[0m     \u001b[39mif\u001b[39;00m \u001b[39misinstance\u001b[39m(casted_key, \u001b[39mslice\u001b[39m) \u001b[39mor\u001b[39;00m (\n\u001b[1;32m   3793\u001b[0m         \u001b[39misinstance\u001b[39m(casted_key, abc\u001b[39m.\u001b[39mIterable)\n\u001b[1;32m   3794\u001b[0m         \u001b[39mand\u001b[39;00m \u001b[39many\u001b[39m(\u001b[39misinstance\u001b[39m(x, \u001b[39mslice\u001b[39m) \u001b[39mfor\u001b[39;00m x \u001b[39min\u001b[39;00m casted_key)\n\u001b[1;32m   3795\u001b[0m     ):\n\u001b[1;32m   3796\u001b[0m         \u001b[39mraise\u001b[39;00m InvalidIndexError(key)\n\u001b[0;32m-> 3797\u001b[0m     \u001b[39mraise\u001b[39;00m \u001b[39mKeyError\u001b[39;00m(key) \u001b[39mfrom\u001b[39;00m \u001b[39merr\u001b[39;00m\n\u001b[1;32m   3798\u001b[0m \u001b[39mexcept\u001b[39;00m \u001b[39mTypeError\u001b[39;00m:\n\u001b[1;32m   3799\u001b[0m     \u001b[39m# If we have a listlike key, _check_indexing_error will raise\u001b[39;00m\n\u001b[1;32m   3800\u001b[0m     \u001b[39m#  InvalidIndexError. Otherwise we fall through and re-raise\u001b[39;00m\n\u001b[1;32m   3801\u001b[0m     \u001b[39m#  the TypeError.\u001b[39;00m\n\u001b[1;32m   3802\u001b[0m     \u001b[39mself\u001b[39m\u001b[39m.\u001b[39m_check_indexing_error(key)\n",
      "\u001b[0;31mKeyError\u001b[0m: 1"
     ]
    }
   ],
   "source": [
    "# ¿y como lo haríamos con iloc? Se nos ocurriría que usando los corchetes, poniendo el índice de la columna que queremos usar como filtro. \n",
    "# veamoslo. \n",
    "df.iloc[df[1] > 12, :]"
   ]
  },
  {
   "cell_type": "markdown",
   "metadata": {},
   "source": [
    "⚠️ Obtenemos el error porque `iloc` no puede aceptar una Serie booleana. Sólo acepta una lista booleana. Podemos utilizar la función `list()` para convertir una Serie en una lista booleana. Por lo tanto, tendríamos que:"
   ]
  },
  {
   "cell_type": "code",
   "execution_count": null,
   "metadata": {},
   "outputs": [
    {
     "data": {
      "text/html": [
       "<div>\n",
       "<style scoped>\n",
       "    .dataframe tbody tr th:only-of-type {\n",
       "        vertical-align: middle;\n",
       "    }\n",
       "\n",
       "    .dataframe tbody tr th {\n",
       "        vertical-align: top;\n",
       "    }\n",
       "\n",
       "    .dataframe thead th {\n",
       "        text-align: right;\n",
       "    }\n",
       "</style>\n",
       "<table border=\"1\" class=\"dataframe\">\n",
       "  <thead>\n",
       "    <tr style=\"text-align: right;\">\n",
       "      <th></th>\n",
       "      <th>Weather</th>\n",
       "      <th>Temperature</th>\n",
       "      <th>Wind</th>\n",
       "      <th>Humidity</th>\n",
       "    </tr>\n",
       "    <tr>\n",
       "      <th>Day</th>\n",
       "      <th></th>\n",
       "      <th></th>\n",
       "      <th></th>\n",
       "      <th></th>\n",
       "    </tr>\n",
       "  </thead>\n",
       "  <tbody>\n",
       "    <tr>\n",
       "      <th>Mon</th>\n",
       "      <td>Sunny</td>\n",
       "      <td>12.79</td>\n",
       "      <td>13</td>\n",
       "      <td>30</td>\n",
       "    </tr>\n",
       "    <tr>\n",
       "      <th>Tue</th>\n",
       "      <td>Sunny</td>\n",
       "      <td>19.67</td>\n",
       "      <td>28</td>\n",
       "      <td>96</td>\n",
       "    </tr>\n",
       "    <tr>\n",
       "      <th>Wed</th>\n",
       "      <td>Sunny</td>\n",
       "      <td>17.51</td>\n",
       "      <td>16</td>\n",
       "      <td>20</td>\n",
       "    </tr>\n",
       "    <tr>\n",
       "      <th>Thu</th>\n",
       "      <td>Cloudy</td>\n",
       "      <td>14.44</td>\n",
       "      <td>11</td>\n",
       "      <td>22</td>\n",
       "    </tr>\n",
       "    <tr>\n",
       "      <th>Sun</th>\n",
       "      <td>Sunny</td>\n",
       "      <td>17.50</td>\n",
       "      <td>20</td>\n",
       "      <td>10</td>\n",
       "    </tr>\n",
       "  </tbody>\n",
       "</table>\n",
       "</div>"
      ],
      "text/plain": [
       "    Weather  Temperature  Wind  Humidity\n",
       "Day                                     \n",
       "Mon   Sunny        12.79    13        30\n",
       "Tue   Sunny        19.67    28        96\n",
       "Wed   Sunny        17.51    16        20\n",
       "Thu  Cloudy        14.44    11        22\n",
       "Sun   Sunny        17.50    20        10"
      ]
     },
     "execution_count": 38,
     "metadata": {},
     "output_type": "execute_result"
    }
   ],
   "source": [
    "df.iloc[list(df.Temperature > 12), :]"
   ]
  },
  {
   "cell_type": "code",
   "execution_count": null,
   "metadata": {},
   "outputs": [
    {
     "name": "stdout",
     "output_type": "stream",
     "text": [
      "El resultado usando la sintaxis de DF.COLUMNA usando LOC es:\n",
      "     Weather  Temperature  Wind  Humidity\n",
      "Day                                     \n",
      "Mon   Sunny        12.79    13        30\n",
      "Tue   Sunny        19.67    28        96\n",
      "Wed   Sunny        17.51    16        20\n",
      "Thu  Cloudy        14.44    11        22\n",
      "Sun   Sunny        17.50    20        10\n",
      "\n",
      " --------------- \n",
      "\n",
      "El resultado usando la sintaxis de df['COLUMNA'] usando LOC es:\n",
      "     Weather  Temperature  Wind  Humidity\n",
      "Day                                     \n",
      "Mon   Sunny        12.79    13        30\n",
      "Tue   Sunny        19.67    28        96\n",
      "Wed   Sunny        17.51    16        20\n",
      "Thu  Cloudy        14.44    11        22\n",
      "Sun   Sunny        17.50    20        10\n",
      "\n",
      " --------------- \n",
      "\n",
      "El resultado usando la sintaxis de df['COLUMNA'] usando ILOC es:\n",
      "     Weather  Temperature  Wind  Humidity\n",
      "Day                                     \n",
      "Mon   Sunny        12.79    13        30\n",
      "Tue   Sunny        19.67    28        96\n",
      "Wed   Sunny        17.51    16        20\n",
      "Thu  Cloudy        14.44    11        22\n",
      "Sun   Sunny        17.50    20        10\n"
     ]
    }
   ],
   "source": [
    "# si juntamos todo lo aprendido de loc e iloc en las últimas celdas\n",
    "\n",
    "# filtramos nuestros datos para quedarnos solo con las filas donde la temperatura sean mayor que 12\n",
    "df_mayor_12_1 = df.loc[df.Temperature > 12, :]\n",
    "print(f\"El resultado usando la sintaxis de DF.COLUMNA usando LOC es:\\n {df_mayor_12_1}\")\n",
    "\n",
    "print(\"\\n --------------- \\n\")\n",
    "\n",
    "# la linea de arriba es exactamente la misma que esta que vemos aquí abajo\n",
    "df_mayor_12_2 = df.loc[df[\"Temperature\"] > 12, :]\n",
    "print(f\"El resultado usando la sintaxis de df['COLUMNA'] usando LOC es:\\n {df_mayor_12_1}\")\n",
    "\n",
    "print(\"\\n --------------- \\n\")\n",
    "\n",
    "# filtramos con ILOC\n",
    "df_mayor_12_iloc = df.iloc[list(df.Temperature > 12), :]\n",
    "print(f\"El resultado usando la sintaxis de df['COLUMNA'] usando ILOC es:\\n {df_mayor_12_iloc}\")\n",
    "\n"
   ]
  },
  {
   "cell_type": "markdown",
   "metadata": {},
   "source": [
    "**¿Y si queremos que se cumplan varias condiciones?**\n",
    "\n",
    "En este caso tendremos que usar los operadores & o |, como vimos en NumPy. Recordemos lo que significan: \n",
    "\n",
    "- `&`: es como el operador `and`. En este caso se tendrán que cumplir todas las condiciones que le pasemos. \n",
    "\n",
    "\n",
    "- `|`: es como el operador `or`. En este caso nos devolverá datos de las condiciones que se cumplan, pero tienen porque cumplirse todas a la vez. O una condición y otra. \n",
    "\n",
    "En este ejercicio vamos a querer filtrar  los días de la semana que había un viento mayor que 20 y que el tiempo era soleado (\"Sunny\") "
   ]
  },
  {
   "cell_type": "code",
   "execution_count": null,
   "metadata": {},
   "outputs": [
    {
     "name": "stdout",
     "output_type": "stream",
     "text": [
      "El resultado usando LOC es:\n",
      "     Weather  Temperature  Wind  Humidity\n",
      "Day                                     \n",
      "Tue   Sunny        19.67    28        96\n",
      "\n",
      " --------------- \n",
      "\n",
      "El resultado usando ILOC es:\n",
      "     Weather  Temperature  Wind  Humidity\n",
      "Day                                     \n",
      "Tue   Sunny        19.67    28        96\n"
     ]
    }
   ],
   "source": [
    "# Seleccionar aquellas filas donde se cumpla la condición de que el viento es mayor que 20 y el tiempo era soleado.\n",
    "# además estamos especificando que nos devuelva solo las columnas de \"Temperature\" y \" Wind\"\n",
    "# SE TIENEN QUE CUMPLIR LAS DOS CONDICIONES\n",
    "\n",
    "# filtramos con LOC\n",
    "df_dos_condiciones_loc = df.loc[(df.Wind > 20) & (df.Weather == 'Sunny'), :]\n",
    "\n",
    "# filtramos con ILOC\n",
    "df_dos_condiciones_iloc = df.iloc[list((df.Wind > 20) & (df.Weather == 'Sunny')), :]\n",
    "\n",
    "\n",
    "print(f\"El resultado usando LOC es:\\n {df_dos_condiciones_loc}\")\n",
    "\n",
    "print(\"\\n --------------- \\n\")\n",
    "\n",
    "print(f\"El resultado usando ILOC es:\\n {df_dos_condiciones_iloc}\")"
   ]
  },
  {
   "cell_type": "markdown",
   "metadata": {},
   "source": [
    "**POR LO TANTO, LAS DIFERENCIAS ENTRE `LOC` E `ILOC` SON:**\n",
    "\n",
    "|       | loc                                             | iloc                                                |\n",
    "|-------|-------------------------------------------------|-----------------------------------------------------|\n",
    "| Uso   | Acceso a datos utilizando etiquetas de índice    | Acceso a datos utilizando posiciones de índice       |\n",
    "| Índice| Puede utilizar etiquetas o slices de etiquetas   | Solo puede utilizar posiciones enteras o slices      |\n",
    "| Filtrado | Permite filtrar filas y seleccionar columnas     | Permite filtrar filas y seleccionar columnas         |\n",
    "| Sintaxis | Utiliza etiquetas separadas por comas           | Utiliza posiciones enteras separadas por comas       |\n",
    "| Ejemplo | `df.loc[3:5, 'columna']`                        | `df.iloc[3:5, 2]`                                   |\n"
   ]
  },
  {
   "cell_type": "markdown",
   "metadata": {},
   "source": [
    "## Creación nuevas columnas\n",
    "\n",
    "Como analistas de datos, podríamos estar interesadas en crear nuevas columnas en nuestro DataFrame por varias razones:\n",
    "\n",
    "1. **Transformación de datos**: Al crear nuevas columnas, podemos aplicar transformaciones o cálculos a los datos existentes para obtener información adicional o modificar su representación. Por ejemplo, podríamos calcular porcentajes, ratios o aplicar funciones matemáticas o estadísticas a las columnas existentes.\n",
    "\n",
    "2. **Agregación de datos**: Al crear nuevas columnas, podemos realizar agregaciones y resúmenes de los datos existentes. Podemos agrupar los datos por ciertas variables y calcular sumas, promedios, máximos, mínimos u otras métricas para cada grupo.\n",
    "\n",
    "3. **Enriquecimiento de datos**: Podemos crear nuevas columnas utilizando datos externos o fuentes adicionales para enriquecer la información existente. Esto podría implicar fusionar DataFrames o realizar consultas a bases de datos para obtener información adicional que pueda ser relevante para nuestro análisis.\n",
    "\n",
    "4. **Ingeniería de características**: La creación de nuevas columnas puede ser útil en la ingeniería de características, donde creamos variables predictivas o descriptivas adicionales para mejorar nuestros modelos o análisis. Podemos extraer características relevantes de las columnas existentes o combinar diferentes variables para crear nuevas representaciones.\n",
    "\n",
    "5. **Facilitar el análisis y visualización**: Al crear nuevas columnas, podemos estructurar los datos de una manera que facilite el análisis o la visualización. Podemos categorizar o binarizar variables continuas, crear columnas de fecha y hora a partir de datos de tiempo, o etiquetar datos utilizando condiciones o funciones de mapeo.\n",
    "\n",
    "En Pandas, hay diversas formas de crear nuevas columnas, algunas de las más importantes:\n",
    "\n",
    "1. **Asignación directa**: Podemos asignar una nueva columna utilizando una operación o cálculo en base a las columnas existentes. Por ejemplo, podemos asignar una nueva columna \"nueva_columna\" que sea el resultado de sumar dos columnas existentes \"columna1\" y \"columna2\".\n",
    "\n",
    "\n",
    "2. **Método `assign()`:**  nos permite crear una nueva copia del DataFrame original con una o varias columnas nuevas agregadas. Podemos especificar el nombre de la nueva columna y proporcionar una expresión o función para calcular los valores.\n",
    "\n",
    "\n",
    "3. **Método insert():** nos permite insertar una nueva columna en un DataFrame en una posición específica, especificando el índice de la columna y los valores correspondientes.\n"
   ]
  },
  {
   "cell_type": "code",
   "execution_count": null,
   "metadata": {},
   "outputs": [
    {
     "data": {
      "text/html": [
       "<div>\n",
       "<style scoped>\n",
       "    .dataframe tbody tr th:only-of-type {\n",
       "        vertical-align: middle;\n",
       "    }\n",
       "\n",
       "    .dataframe tbody tr th {\n",
       "        vertical-align: top;\n",
       "    }\n",
       "\n",
       "    .dataframe thead th {\n",
       "        text-align: right;\n",
       "    }\n",
       "</style>\n",
       "<table border=\"1\" class=\"dataframe\">\n",
       "  <thead>\n",
       "    <tr style=\"text-align: right;\">\n",
       "      <th></th>\n",
       "      <th>Weather</th>\n",
       "      <th>Temperature</th>\n",
       "      <th>Wind</th>\n",
       "      <th>Humidity</th>\n",
       "    </tr>\n",
       "    <tr>\n",
       "      <th>Day</th>\n",
       "      <th></th>\n",
       "      <th></th>\n",
       "      <th></th>\n",
       "      <th></th>\n",
       "    </tr>\n",
       "  </thead>\n",
       "  <tbody>\n",
       "    <tr>\n",
       "      <th>Mon</th>\n",
       "      <td>Sunny</td>\n",
       "      <td>12.79</td>\n",
       "      <td>13</td>\n",
       "      <td>30</td>\n",
       "    </tr>\n",
       "    <tr>\n",
       "      <th>Tue</th>\n",
       "      <td>Sunny</td>\n",
       "      <td>19.67</td>\n",
       "      <td>28</td>\n",
       "      <td>96</td>\n",
       "    </tr>\n",
       "    <tr>\n",
       "      <th>Wed</th>\n",
       "      <td>Sunny</td>\n",
       "      <td>17.51</td>\n",
       "      <td>16</td>\n",
       "      <td>20</td>\n",
       "    </tr>\n",
       "    <tr>\n",
       "      <th>Thu</th>\n",
       "      <td>Cloudy</td>\n",
       "      <td>14.44</td>\n",
       "      <td>11</td>\n",
       "      <td>22</td>\n",
       "    </tr>\n",
       "    <tr>\n",
       "      <th>Fri</th>\n",
       "      <td>Shower</td>\n",
       "      <td>10.51</td>\n",
       "      <td>26</td>\n",
       "      <td>79</td>\n",
       "    </tr>\n",
       "    <tr>\n",
       "      <th>Sat</th>\n",
       "      <td>Shower</td>\n",
       "      <td>11.07</td>\n",
       "      <td>27</td>\n",
       "      <td>62</td>\n",
       "    </tr>\n",
       "    <tr>\n",
       "      <th>Sun</th>\n",
       "      <td>Sunny</td>\n",
       "      <td>17.50</td>\n",
       "      <td>20</td>\n",
       "      <td>10</td>\n",
       "    </tr>\n",
       "  </tbody>\n",
       "</table>\n",
       "</div>"
      ],
      "text/plain": [
       "    Weather  Temperature  Wind  Humidity\n",
       "Day                                     \n",
       "Mon   Sunny        12.79    13        30\n",
       "Tue   Sunny        19.67    28        96\n",
       "Wed   Sunny        17.51    16        20\n",
       "Thu  Cloudy        14.44    11        22\n",
       "Fri  Shower        10.51    26        79\n",
       "Sat  Shower        11.07    27        62\n",
       "Sun   Sunny        17.50    20        10"
      ]
     },
     "execution_count": 41,
     "metadata": {},
     "output_type": "execute_result"
    }
   ],
   "source": [
    "# antes de nada recordemos como es nuestro dataframe\n",
    "df"
   ]
  },
  {
   "cell_type": "markdown",
   "metadata": {},
   "source": [
    "### Asignación directa\n",
    "\n",
    "Supongamos que queremos tener la temperatura también en grados Farenheit. Podríamos crearnos una columna nueva aplicando una serie de operaciones sobre la que ya tenemos: "
   ]
  },
  {
   "cell_type": "code",
   "execution_count": null,
   "metadata": {},
   "outputs": [
    {
     "data": {
      "text/html": [
       "<div>\n",
       "<style scoped>\n",
       "    .dataframe tbody tr th:only-of-type {\n",
       "        vertical-align: middle;\n",
       "    }\n",
       "\n",
       "    .dataframe tbody tr th {\n",
       "        vertical-align: top;\n",
       "    }\n",
       "\n",
       "    .dataframe thead th {\n",
       "        text-align: right;\n",
       "    }\n",
       "</style>\n",
       "<table border=\"1\" class=\"dataframe\">\n",
       "  <thead>\n",
       "    <tr style=\"text-align: right;\">\n",
       "      <th></th>\n",
       "      <th>Weather</th>\n",
       "      <th>Temperature</th>\n",
       "      <th>Wind</th>\n",
       "      <th>Humidity</th>\n",
       "      <th>Farenheit</th>\n",
       "    </tr>\n",
       "    <tr>\n",
       "      <th>Day</th>\n",
       "      <th></th>\n",
       "      <th></th>\n",
       "      <th></th>\n",
       "      <th></th>\n",
       "      <th></th>\n",
       "    </tr>\n",
       "  </thead>\n",
       "  <tbody>\n",
       "    <tr>\n",
       "      <th>Mon</th>\n",
       "      <td>Sunny</td>\n",
       "      <td>12.79</td>\n",
       "      <td>13</td>\n",
       "      <td>30</td>\n",
       "      <td>55.022</td>\n",
       "    </tr>\n",
       "    <tr>\n",
       "      <th>Tue</th>\n",
       "      <td>Sunny</td>\n",
       "      <td>19.67</td>\n",
       "      <td>28</td>\n",
       "      <td>96</td>\n",
       "      <td>67.406</td>\n",
       "    </tr>\n",
       "    <tr>\n",
       "      <th>Wed</th>\n",
       "      <td>Sunny</td>\n",
       "      <td>17.51</td>\n",
       "      <td>16</td>\n",
       "      <td>20</td>\n",
       "      <td>63.518</td>\n",
       "    </tr>\n",
       "    <tr>\n",
       "      <th>Thu</th>\n",
       "      <td>Cloudy</td>\n",
       "      <td>14.44</td>\n",
       "      <td>11</td>\n",
       "      <td>22</td>\n",
       "      <td>57.992</td>\n",
       "    </tr>\n",
       "    <tr>\n",
       "      <th>Fri</th>\n",
       "      <td>Shower</td>\n",
       "      <td>10.51</td>\n",
       "      <td>26</td>\n",
       "      <td>79</td>\n",
       "      <td>50.918</td>\n",
       "    </tr>\n",
       "  </tbody>\n",
       "</table>\n",
       "</div>"
      ],
      "text/plain": [
       "    Weather  Temperature  Wind  Humidity  Farenheit\n",
       "Day                                                \n",
       "Mon   Sunny        12.79    13        30     55.022\n",
       "Tue   Sunny        19.67    28        96     67.406\n",
       "Wed   Sunny        17.51    16        20     63.518\n",
       "Thu  Cloudy        14.44    11        22     57.992\n",
       "Fri  Shower        10.51    26        79     50.918"
      ]
     },
     "execution_count": 42,
     "metadata": {},
     "output_type": "execute_result"
    }
   ],
   "source": [
    "# lo primero que hacemos es establecer el nombre de la nueva columna que queremos, y esto lo igualaremos a la operación que queremos\n",
    "# en este caso, todos los valores de la columna 'Temperature' multiplicados por 9/5 y a todo esto le sumamos 32\n",
    "# lo que va a hacer es ir valor a valor (celda a celda) aplicando las operaciones que le hemos especificado. \n",
    "\n",
    "df[\"Farenheit\"] = (df[\"Temperature\"] * 9/5) + 32\n",
    "\n",
    "# si ahora volvemos a ver nuestro dataframe tendremos una nueva columna\n",
    "# con la temperatura convertida en Farenheit\n",
    "\n",
    "df.head()"
   ]
  },
  {
   "cell_type": "markdown",
   "metadata": {},
   "source": [
    "### `.assign()`\n",
    "\n",
    "Crea una nueva copia del DataFrame original con columnas adicionales agregadas. La sintaxis básica del método `assign()` de Pandas es la siguiente:\n",
    "\n",
    "```python\n",
    "df_new = df.assign(nueva_columna=expresión)\n",
    "```\n",
    "\n",
    "- `df`: Es el DataFrame original al que queremos agregar la nueva columna.\n",
    "\n",
    "- `nueva_columna`: Es el nombre que le asignamos a la nueva columna que queremos crear.\n",
    "\n",
    "- `expresión`: Es la expresión o cálculo que utilizamos para generar los valores de la nueva columna.\n",
    "\n",
    "Podemos asignar múltiples columnas separándolas por comas:\n",
    "\n",
    "```python\n",
    "df_new = df.assign(nueva_columna1=expresión1, nueva_columna2=expresión2)\n",
    "```"
   ]
  },
  {
   "cell_type": "code",
   "execution_count": null,
   "metadata": {},
   "outputs": [
    {
     "data": {
      "text/html": [
       "<div>\n",
       "<style scoped>\n",
       "    .dataframe tbody tr th:only-of-type {\n",
       "        vertical-align: middle;\n",
       "    }\n",
       "\n",
       "    .dataframe tbody tr th {\n",
       "        vertical-align: top;\n",
       "    }\n",
       "\n",
       "    .dataframe thead th {\n",
       "        text-align: right;\n",
       "    }\n",
       "</style>\n",
       "<table border=\"1\" class=\"dataframe\">\n",
       "  <thead>\n",
       "    <tr style=\"text-align: right;\">\n",
       "      <th></th>\n",
       "      <th>Weather</th>\n",
       "      <th>Temperature</th>\n",
       "      <th>Wind</th>\n",
       "      <th>Humidity</th>\n",
       "      <th>Farenheit</th>\n",
       "      <th>temp_f</th>\n",
       "    </tr>\n",
       "    <tr>\n",
       "      <th>Day</th>\n",
       "      <th></th>\n",
       "      <th></th>\n",
       "      <th></th>\n",
       "      <th></th>\n",
       "      <th></th>\n",
       "      <th></th>\n",
       "    </tr>\n",
       "  </thead>\n",
       "  <tbody>\n",
       "    <tr>\n",
       "      <th>Mon</th>\n",
       "      <td>Sunny</td>\n",
       "      <td>12.79</td>\n",
       "      <td>13</td>\n",
       "      <td>30</td>\n",
       "      <td>55.022</td>\n",
       "      <td>55.022</td>\n",
       "    </tr>\n",
       "    <tr>\n",
       "      <th>Tue</th>\n",
       "      <td>Sunny</td>\n",
       "      <td>19.67</td>\n",
       "      <td>28</td>\n",
       "      <td>96</td>\n",
       "      <td>67.406</td>\n",
       "      <td>67.406</td>\n",
       "    </tr>\n",
       "    <tr>\n",
       "      <th>Wed</th>\n",
       "      <td>Sunny</td>\n",
       "      <td>17.51</td>\n",
       "      <td>16</td>\n",
       "      <td>20</td>\n",
       "      <td>63.518</td>\n",
       "      <td>63.518</td>\n",
       "    </tr>\n",
       "    <tr>\n",
       "      <th>Thu</th>\n",
       "      <td>Cloudy</td>\n",
       "      <td>14.44</td>\n",
       "      <td>11</td>\n",
       "      <td>22</td>\n",
       "      <td>57.992</td>\n",
       "      <td>57.992</td>\n",
       "    </tr>\n",
       "    <tr>\n",
       "      <th>Fri</th>\n",
       "      <td>Shower</td>\n",
       "      <td>10.51</td>\n",
       "      <td>26</td>\n",
       "      <td>79</td>\n",
       "      <td>50.918</td>\n",
       "      <td>50.918</td>\n",
       "    </tr>\n",
       "    <tr>\n",
       "      <th>Sat</th>\n",
       "      <td>Shower</td>\n",
       "      <td>11.07</td>\n",
       "      <td>27</td>\n",
       "      <td>62</td>\n",
       "      <td>51.926</td>\n",
       "      <td>51.926</td>\n",
       "    </tr>\n",
       "    <tr>\n",
       "      <th>Sun</th>\n",
       "      <td>Sunny</td>\n",
       "      <td>17.50</td>\n",
       "      <td>20</td>\n",
       "      <td>10</td>\n",
       "      <td>63.500</td>\n",
       "      <td>63.500</td>\n",
       "    </tr>\n",
       "  </tbody>\n",
       "</table>\n",
       "</div>"
      ],
      "text/plain": [
       "    Weather  Temperature  Wind  Humidity  Farenheit  temp_f\n",
       "Day                                                        \n",
       "Mon   Sunny        12.79    13        30     55.022  55.022\n",
       "Tue   Sunny        19.67    28        96     67.406  67.406\n",
       "Wed   Sunny        17.51    16        20     63.518  63.518\n",
       "Thu  Cloudy        14.44    11        22     57.992  57.992\n",
       "Fri  Shower        10.51    26        79     50.918  50.918\n",
       "Sat  Shower        11.07    27        62     51.926  51.926\n",
       "Sun   Sunny        17.50    20        10     63.500  63.500"
      ]
     },
     "execution_count": 43,
     "metadata": {},
     "output_type": "execute_result"
    }
   ],
   "source": [
    "# creamos una nueva columna llamada `temp_f` que será el resultado de la operación que hemos explicado previamente\n",
    "df.assign(temp_f=df['Temperature'] * 9 / 5 + 32)"
   ]
  },
  {
   "cell_type": "code",
   "execution_count": null,
   "metadata": {},
   "outputs": [
    {
     "data": {
      "text/html": [
       "<div>\n",
       "<style scoped>\n",
       "    .dataframe tbody tr th:only-of-type {\n",
       "        vertical-align: middle;\n",
       "    }\n",
       "\n",
       "    .dataframe tbody tr th {\n",
       "        vertical-align: top;\n",
       "    }\n",
       "\n",
       "    .dataframe thead th {\n",
       "        text-align: right;\n",
       "    }\n",
       "</style>\n",
       "<table border=\"1\" class=\"dataframe\">\n",
       "  <thead>\n",
       "    <tr style=\"text-align: right;\">\n",
       "      <th></th>\n",
       "      <th>Weather</th>\n",
       "      <th>Temperature</th>\n",
       "      <th>Wind</th>\n",
       "      <th>Humidity</th>\n",
       "      <th>Farenheit</th>\n",
       "      <th>temp_f</th>\n",
       "    </tr>\n",
       "    <tr>\n",
       "      <th>Day</th>\n",
       "      <th></th>\n",
       "      <th></th>\n",
       "      <th></th>\n",
       "      <th></th>\n",
       "      <th></th>\n",
       "      <th></th>\n",
       "    </tr>\n",
       "  </thead>\n",
       "  <tbody>\n",
       "    <tr>\n",
       "      <th>Mon</th>\n",
       "      <td>Sunny</td>\n",
       "      <td>12.79</td>\n",
       "      <td>13</td>\n",
       "      <td>30</td>\n",
       "      <td>55.022</td>\n",
       "      <td>55.022</td>\n",
       "    </tr>\n",
       "    <tr>\n",
       "      <th>Tue</th>\n",
       "      <td>Sunny</td>\n",
       "      <td>19.67</td>\n",
       "      <td>28</td>\n",
       "      <td>96</td>\n",
       "      <td>67.406</td>\n",
       "      <td>67.406</td>\n",
       "    </tr>\n",
       "    <tr>\n",
       "      <th>Wed</th>\n",
       "      <td>Sunny</td>\n",
       "      <td>17.51</td>\n",
       "      <td>16</td>\n",
       "      <td>20</td>\n",
       "      <td>63.518</td>\n",
       "      <td>63.518</td>\n",
       "    </tr>\n",
       "    <tr>\n",
       "      <th>Thu</th>\n",
       "      <td>Cloudy</td>\n",
       "      <td>14.44</td>\n",
       "      <td>11</td>\n",
       "      <td>22</td>\n",
       "      <td>57.992</td>\n",
       "      <td>57.992</td>\n",
       "    </tr>\n",
       "    <tr>\n",
       "      <th>Fri</th>\n",
       "      <td>Shower</td>\n",
       "      <td>10.51</td>\n",
       "      <td>26</td>\n",
       "      <td>79</td>\n",
       "      <td>50.918</td>\n",
       "      <td>50.918</td>\n",
       "    </tr>\n",
       "    <tr>\n",
       "      <th>Sat</th>\n",
       "      <td>Shower</td>\n",
       "      <td>11.07</td>\n",
       "      <td>27</td>\n",
       "      <td>62</td>\n",
       "      <td>51.926</td>\n",
       "      <td>51.926</td>\n",
       "    </tr>\n",
       "    <tr>\n",
       "      <th>Sun</th>\n",
       "      <td>Sunny</td>\n",
       "      <td>17.50</td>\n",
       "      <td>20</td>\n",
       "      <td>10</td>\n",
       "      <td>63.500</td>\n",
       "      <td>63.500</td>\n",
       "    </tr>\n",
       "  </tbody>\n",
       "</table>\n",
       "</div>"
      ],
      "text/plain": [
       "    Weather  Temperature  Wind  Humidity  Farenheit  temp_f\n",
       "Day                                                        \n",
       "Mon   Sunny        12.79    13        30     55.022  55.022\n",
       "Tue   Sunny        19.67    28        96     67.406  67.406\n",
       "Wed   Sunny        17.51    16        20     63.518  63.518\n",
       "Thu  Cloudy        14.44    11        22     57.992  57.992\n",
       "Fri  Shower        10.51    26        79     50.918  50.918\n",
       "Sat  Shower        11.07    27        62     51.926  51.926\n",
       "Sun   Sunny        17.50    20        10     63.500  63.500"
      ]
     },
     "execution_count": 44,
     "metadata": {},
     "output_type": "execute_result"
    }
   ],
   "source": [
    "# comprobamos que en el  DataFrame se ha creado. \n",
    "# Pero ... ¿Qué ha pasado? que nos la ha creado, pero no la ha guardado, para eso tendremos que sobreescribir el DataFrame\n",
    "df = df.assign(temp_f=df['Temperature'] * 9 / 5 + 32)\n",
    "\n",
    "# comprobamos de nuevo si la columna se ha creado\n",
    "df"
   ]
  },
  {
   "cell_type": "markdown",
   "metadata": {},
   "source": [
    "### `insert()`\n",
    "\n",
    "Crea una nueva copia del DataFrame original con columnas adicionales agregadas. La sintaxis básica del método `insert()` es la siguiente:\n",
    "\n",
    "```python\n",
    "df.insert(loc, column, value, allow_duplicates=False)\n",
    "```\n",
    "\n",
    "- `loc`: Es la posición numérica en la que queremos insertar la columna. Puede ser un número *integer* o una etiqueta.\n",
    "\n",
    "- `column`: Es el nombre de la nueva columna que queremos insertar.\n",
    "\n",
    "- `value`: Es el valor o valores que queremos asignar a la nueva columna. Puede ser un valor escalar, una lista o un array NumPy.\n",
    "\n",
    "- `allow_duplicates` (opcional): Es un parámetro *bool* que indica si se permiten columnas duplicadas en el DataFrame. El valor predeterminado es `False`.\n"
   ]
  },
  {
   "cell_type": "code",
   "execution_count": null,
   "metadata": {},
   "outputs": [
    {
     "data": {
      "text/html": [
       "<div>\n",
       "<style scoped>\n",
       "    .dataframe tbody tr th:only-of-type {\n",
       "        vertical-align: middle;\n",
       "    }\n",
       "\n",
       "    .dataframe tbody tr th {\n",
       "        vertical-align: top;\n",
       "    }\n",
       "\n",
       "    .dataframe thead th {\n",
       "        text-align: right;\n",
       "    }\n",
       "</style>\n",
       "<table border=\"1\" class=\"dataframe\">\n",
       "  <thead>\n",
       "    <tr style=\"text-align: right;\">\n",
       "      <th></th>\n",
       "      <th>indice</th>\n",
       "      <th>Weather</th>\n",
       "      <th>Temperature</th>\n",
       "      <th>Wind</th>\n",
       "      <th>Humidity</th>\n",
       "      <th>Farenheit</th>\n",
       "      <th>temp_f</th>\n",
       "    </tr>\n",
       "    <tr>\n",
       "      <th>Day</th>\n",
       "      <th></th>\n",
       "      <th></th>\n",
       "      <th></th>\n",
       "      <th></th>\n",
       "      <th></th>\n",
       "      <th></th>\n",
       "      <th></th>\n",
       "    </tr>\n",
       "  </thead>\n",
       "  <tbody>\n",
       "    <tr>\n",
       "      <th>Mon</th>\n",
       "      <td>1</td>\n",
       "      <td>Sunny</td>\n",
       "      <td>12.79</td>\n",
       "      <td>13</td>\n",
       "      <td>30</td>\n",
       "      <td>55.022</td>\n",
       "      <td>55.022</td>\n",
       "    </tr>\n",
       "    <tr>\n",
       "      <th>Tue</th>\n",
       "      <td>2</td>\n",
       "      <td>Sunny</td>\n",
       "      <td>19.67</td>\n",
       "      <td>28</td>\n",
       "      <td>96</td>\n",
       "      <td>67.406</td>\n",
       "      <td>67.406</td>\n",
       "    </tr>\n",
       "    <tr>\n",
       "      <th>Wed</th>\n",
       "      <td>3</td>\n",
       "      <td>Sunny</td>\n",
       "      <td>17.51</td>\n",
       "      <td>16</td>\n",
       "      <td>20</td>\n",
       "      <td>63.518</td>\n",
       "      <td>63.518</td>\n",
       "    </tr>\n",
       "    <tr>\n",
       "      <th>Thu</th>\n",
       "      <td>4</td>\n",
       "      <td>Cloudy</td>\n",
       "      <td>14.44</td>\n",
       "      <td>11</td>\n",
       "      <td>22</td>\n",
       "      <td>57.992</td>\n",
       "      <td>57.992</td>\n",
       "    </tr>\n",
       "    <tr>\n",
       "      <th>Fri</th>\n",
       "      <td>5</td>\n",
       "      <td>Shower</td>\n",
       "      <td>10.51</td>\n",
       "      <td>26</td>\n",
       "      <td>79</td>\n",
       "      <td>50.918</td>\n",
       "      <td>50.918</td>\n",
       "    </tr>\n",
       "    <tr>\n",
       "      <th>Sat</th>\n",
       "      <td>6</td>\n",
       "      <td>Shower</td>\n",
       "      <td>11.07</td>\n",
       "      <td>27</td>\n",
       "      <td>62</td>\n",
       "      <td>51.926</td>\n",
       "      <td>51.926</td>\n",
       "    </tr>\n",
       "    <tr>\n",
       "      <th>Sun</th>\n",
       "      <td>7</td>\n",
       "      <td>Sunny</td>\n",
       "      <td>17.50</td>\n",
       "      <td>20</td>\n",
       "      <td>10</td>\n",
       "      <td>63.500</td>\n",
       "      <td>63.500</td>\n",
       "    </tr>\n",
       "  </tbody>\n",
       "</table>\n",
       "</div>"
      ],
      "text/plain": [
       "     indice Weather  Temperature  Wind  Humidity  Farenheit  temp_f\n",
       "Day                                                                \n",
       "Mon       1   Sunny        12.79    13        30     55.022  55.022\n",
       "Tue       2   Sunny        19.67    28        96     67.406  67.406\n",
       "Wed       3   Sunny        17.51    16        20     63.518  63.518\n",
       "Thu       4  Cloudy        14.44    11        22     57.992  57.992\n",
       "Fri       5  Shower        10.51    26        79     50.918  50.918\n",
       "Sat       6  Shower        11.07    27        62     51.926  51.926\n",
       "Sun       7   Sunny        17.50    20        10     63.500  63.500"
      ]
     },
     "execution_count": 45,
     "metadata": {},
     "output_type": "execute_result"
    }
   ],
   "source": [
    "# en este ejemplo estamos creando una columna nueva que se llama \"indice\" en la primera columna con números del 1 al 7. \n",
    "\n",
    "df.insert(0, \"indice\", range(1,8))\n",
    "\n",
    "# comprobamos si la coolumna se ha creado correctamente\n",
    "df"
   ]
  },
  {
   "cell_type": "code",
   "execution_count": null,
   "metadata": {},
   "outputs": [
    {
     "ename": "ValueError",
     "evalue": "cannot insert indice, already exists",
     "output_type": "error",
     "traceback": [
      "\u001b[0;31m---------------------------------------------------------------------------\u001b[0m",
      "\u001b[0;31mValueError\u001b[0m                                Traceback (most recent call last)",
      "\u001b[0;32m/var/folders/d0/gzh1bx0j04g8wbyd2524690r0000gn/T/ipykernel_98112/2148188118.py\u001b[0m in \u001b[0;36m?\u001b[0;34m()\u001b[0m\n\u001b[1;32m      1\u001b[0m \u001b[0;31m# ⚠️ Si volvieramos a crear otra colummna con el nombre de una columna ya existente nos daría error,\u001b[0m\u001b[0;34m\u001b[0m\u001b[0;34m\u001b[0m\u001b[0m\n\u001b[1;32m      2\u001b[0m \u001b[0;31m# porque no podemos insertar dos columnas con el mismo nombre, ya que el parámetro `allow_duplicates` esta puesto en False\u001b[0m\u001b[0;34m\u001b[0m\u001b[0;34m\u001b[0m\u001b[0m\n\u001b[1;32m      3\u001b[0m \u001b[0;34m\u001b[0m\u001b[0m\n\u001b[0;32m----> 4\u001b[0;31m \u001b[0mdf\u001b[0m\u001b[0;34m.\u001b[0m\u001b[0minsert\u001b[0m\u001b[0;34m(\u001b[0m\u001b[0;36m0\u001b[0m\u001b[0;34m,\u001b[0m \u001b[0;34m\"indice\"\u001b[0m\u001b[0;34m,\u001b[0m \u001b[0mrange\u001b[0m\u001b[0;34m(\u001b[0m\u001b[0;36m1\u001b[0m\u001b[0;34m,\u001b[0m\u001b[0;36m8\u001b[0m\u001b[0;34m)\u001b[0m\u001b[0;34m)\u001b[0m\u001b[0;34m\u001b[0m\u001b[0;34m\u001b[0m\u001b[0m\n\u001b[0m",
      "\u001b[0;32m/opt/homebrew/Caskroom/miniconda/base/envs/promoe/lib/python3.10/site-packages/pandas/core/frame.py\u001b[0m in \u001b[0;36m?\u001b[0;34m(self, loc, column, value, allow_duplicates)\u001b[0m\n\u001b[1;32m   4768\u001b[0m                 \u001b[0;34m\"'self.flags.allows_duplicate_labels' is False.\"\u001b[0m\u001b[0;34m\u001b[0m\u001b[0;34m\u001b[0m\u001b[0m\n\u001b[1;32m   4769\u001b[0m             )\n\u001b[1;32m   4770\u001b[0m         \u001b[0;32mif\u001b[0m \u001b[0;32mnot\u001b[0m \u001b[0mallow_duplicates\u001b[0m \u001b[0;32mand\u001b[0m \u001b[0mcolumn\u001b[0m \u001b[0;32min\u001b[0m \u001b[0mself\u001b[0m\u001b[0;34m.\u001b[0m\u001b[0mcolumns\u001b[0m\u001b[0;34m:\u001b[0m\u001b[0;34m\u001b[0m\u001b[0;34m\u001b[0m\u001b[0m\n\u001b[1;32m   4771\u001b[0m             \u001b[0;31m# Should this be a different kind of error??\u001b[0m\u001b[0;34m\u001b[0m\u001b[0;34m\u001b[0m\u001b[0m\n\u001b[0;32m-> 4772\u001b[0;31m             \u001b[0;32mraise\u001b[0m \u001b[0mValueError\u001b[0m\u001b[0;34m(\u001b[0m\u001b[0;34mf\"cannot insert {column}, already exists\"\u001b[0m\u001b[0;34m)\u001b[0m\u001b[0;34m\u001b[0m\u001b[0;34m\u001b[0m\u001b[0m\n\u001b[0m\u001b[1;32m   4773\u001b[0m         \u001b[0;32mif\u001b[0m \u001b[0;32mnot\u001b[0m \u001b[0misinstance\u001b[0m\u001b[0;34m(\u001b[0m\u001b[0mloc\u001b[0m\u001b[0;34m,\u001b[0m \u001b[0mint\u001b[0m\u001b[0;34m)\u001b[0m\u001b[0;34m:\u001b[0m\u001b[0;34m\u001b[0m\u001b[0;34m\u001b[0m\u001b[0m\n\u001b[1;32m   4774\u001b[0m             \u001b[0;32mraise\u001b[0m \u001b[0mTypeError\u001b[0m\u001b[0;34m(\u001b[0m\u001b[0;34m\"loc must be int\"\u001b[0m\u001b[0;34m)\u001b[0m\u001b[0;34m\u001b[0m\u001b[0;34m\u001b[0m\u001b[0m\n\u001b[1;32m   4775\u001b[0m \u001b[0;34m\u001b[0m\u001b[0m\n",
      "\u001b[0;31mValueError\u001b[0m: cannot insert indice, already exists"
     ]
    }
   ],
   "source": [
    "# ⚠️ Si volvieramos a crear otra colummna con el nombre de una columna ya existente nos daría error, \n",
    "# porque no podemos insertar dos columnas con el mismo nombre, ya que el parámetro `allow_duplicates` esta puesto en False \n",
    "\n",
    "df.insert(0, \"indice\", range(1,8))"
   ]
  },
  {
   "cell_type": "markdown",
   "metadata": {},
   "source": [
    "# Ejercicios\n",
    "\n",
    "A lo largo de todos los ejercicios de la clase invertida trabajaremos con un *csv* que contiene información de las ventas de un *e-commerce*. En concreto usaremos un DataFrame que se llama `rating-and-performance.csv`. Nos proporciona información detalladas de las características de cada producto, calificaciones, ventas, reseñas y otras métricas para que podamos comprender qué hace que un producto de verano tenga éxito en Wish. Veamos en detalles sus columnas para entender mejor el conjuntos de datos: \n",
    "\n",
    "\n",
    "| Columna                      | Descripción                                                                                                    |\n",
    "|------------------------------|----------------------------------------------------------------------------------------------------------------|\n",
    "| title                        | El título del producto. (*object*)                                                                      |\n",
    "| title_orig                   | El título original del producto. (*object*)                                                             |\n",
    "| price                        | El precio del producto. (*float*)                                                                             |\n",
    "| retail_price                 | El precio minorista original del producto. (*float*)                                                           |\n",
    "| currency_buyer               | La moneda del comprador. (*object*)                                                                     |\n",
    "| units_sold                   | El número de unidades vendidas. (*integer*)                                                                       |\n",
    "| uses_ad_boosts               | Un indicador de si el producto ha sido promovido mediante anuncios. (*bool*)                                  |\n",
    "| rating                       | La calificación del producto. (*float*)                                                                       |\n",
    "| rating_count                 | El número total de calificaciones para el producto. (*integer*)                                                    |\n",
    "| rating_five_count            | El número de calificaciones de cinco estrellas para el producto. (*integer*)                                       |\n",
    "| rating_four_count            | El número de calificaciones de cuatro estrellas para el producto. (*integer*)                                      |\n",
    "| rating_three_count           | El número de calificaciones de tres estrellas para el producto. (*integer*)                                        |\n",
    "| rating_two_count             | El número de calificaciones de dos estrellas para el producto. (*integer*)                                         |\n",
    "| rating_one_count             | El número de calificaciones de una estrella para el producto. (*integer*)                                          |\n",
    "| badges_count                 | El número de insignias asociadas al producto. (*integer*)                                                          |\n",
    "| badge_local_product          | Un indicador de si el producto es local. (*bool*)                                                             |\n",
    "| badge_product_quality        | Un indicador de si el producto tiene una insignia de calidad. (*bool*)                                        |\n",
    "| badge_fast_shipping          | Un indicador de si el producto tiene una insignia de envío rápido. (*bool*)                                   |\n",
    "| tags                         | Las etiquetas asociadas al producto. (*object*)                                                         |\n",
    "| product_color                | El color del producto. (*object*)                                                                       |\n",
    "| product_variation_inventory  | El inventario de la variación del producto. (*integer*)                                                           |\n",
    "| shipping_option_name         | El nombre de la opción de envío. (*object*)                                                             |\n",
    "| shipping_option_price        | El precio de la opción de envío. (*float*)                                                                    |\n",
    "| shipping_is_express          | Un indicador de si la opción de envío es express. (*bool*)                                                    |\n",
    "| countries_shipped_to         | Los países a los que se envía el producto. (*object*)                                                   |\n",
    "| inventory_total              | El inventario total del producto. (*integer*)                                                                     |\n",
    "| has_urgency_banner           | Un indicador de si el producto tiene un banner de urgencia. (*bool*)                                          |\n",
    "| urgency_text                 | El texto del banner de urgencia. (*object*)                                                             |\n",
    "| origin_country               | El país de origen del producto. (*object*)                                                              |\n",
    "| merchant_title               | El título del comerciante. (*object*)                                                                   |\n",
    "| merchant_name                | El nombre del comerciante. (*object*)                                                                   |\n",
    "| merchant_info_subtitle       | El subtítulo del comerciante. (*object*)                                                                |\n",
    "| merchant_rating_count        | El número total de calificaciones para el comerciante. (*integer*)                                                 |\n",
    "| merchant_has_profile_picture | Un indicador de si el comerciante tiene una imagen de perfil. (*bool*)                                       |\n",
    "| merchant_profile_picture     | La imagen de perfil del comerciante. (*object*)                                                         |\n",
    "| product_url                  | La URL del producto. (*object*)                                                                         |\n",
    "| product_picture              | La imagen del producto. (*object*)                                                                      |\n",
    "| theme                        | El tema del producto. (*object*)                                                                        |\n",
    "| crawl_month                  | El mes en que se obtuvo el producto. (*object*)                                                         |\n",
    "\n",
    "\n",
    "Para seguir prácticando con Pandas os planteamos los siguientes ejercicios: \n",
    "\n",
    "1- Abre el fichero de `rating-and-performance` con el método que sea más correcto. Además muestra las 5 primeras filas del *DataFrame*. \n",
    "\n",
    "2- Pongamos en práctica el `loc` e `iloc`:\n",
    "\n",
    "  - Usando el `loc`: \n",
    "\n",
    "      - Extraed todas las filas de la columna \"price\". ¿De qué tipo es el resultado obtenido?\n",
    "\n",
    "      - Extraed todas las filas de las columnas \"price\" y \"retail_price\". ¿De qué tipo es el resultado obtenido?\n",
    "\n",
    "      - Extraed las filas pares, de las columnas \"rating\", \"rating_count\", \"rating_five_count\", \"rating_four_count\", \"rating_three_count\", \"rating_two_count\", \"rating_one_count\". \n",
    "\n",
    "    - Extraed las las filas cuyo precio sea mayor que 10 y sus unidades vendidas (\"units_sold\") sea mayor que 5000. \n",
    "\n",
    "  - Usando el `iloc` (sacaremos los mismos resultados que con el loc): \n",
    "\n",
    "    - Extraed todas las filas de la columna \"price\". \n",
    "\n",
    "    - Extraed todas las filas de las columnas \"price\" y \"retail_price\". \n",
    "\n",
    "    - Extraed las filas pares, de las columnas \"rating\", \"rating_count\", \"rating_five_count\", \"rating_four_count\", \"rating_three_count\", \"rating_two_count\", \"rating_one_count\". \n",
    "\n",
    "3- Cread una nueva columna donde tengamos la diferencia entre el precio al que vende el e-commerce menos el precio del minorista. Insertad esta columna en la posición dos. "
   ]
  },
  {
   "cell_type": "markdown",
   "metadata": {},
   "source": []
  }
 ],
 "metadata": {
  "kernelspec": {
   "display_name": "Python 3 (ipykernel)",
   "language": "python",
   "name": "python3"
  },
  "language_info": {
   "codemirror_mode": {
    "name": "ipython",
    "version": 3
   },
   "file_extension": ".py",
   "mimetype": "text/x-python",
   "name": "python",
   "nbconvert_exporter": "python",
   "pygments_lexer": "ipython3",
   "version": "3.11.4"
  },
  "toc": {
   "base_numbering": 1,
   "nav_menu": {},
   "number_sections": true,
   "sideBar": true,
   "skip_h1_title": false,
   "title_cell": "Tabla de Contenidos",
   "title_sidebar": "Contents",
   "toc_cell": true,
   "toc_position": {
    "height": "calc(100% - 180px)",
    "left": "10px",
    "top": "150px",
    "width": "326.663px"
   },
   "toc_section_display": true,
   "toc_window_display": true
  }
 },
 "nbformat": 4,
 "nbformat_minor": 2
}
